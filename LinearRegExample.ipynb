{
  "nbformat": 4,
  "nbformat_minor": 0,
  "metadata": {
    "colab": {
      "name": "LinearRegExample.ipynb",
      "version": "0.3.2",
      "provenance": [],
      "collapsed_sections": [],
      "include_colab_link": true
    },
    "kernelspec": {
      "name": "python3",
      "display_name": "Python 3"
    }
  },
  "cells": [
    {
      "cell_type": "markdown",
      "metadata": {
        "id": "view-in-github",
        "colab_type": "text"
      },
      "source": [
        "[View in Colaboratory](https://colab.research.google.com/github/olley102/linalgebra/blob/master/LinearRegExample.ipynb)"
      ]
    },
    {
      "metadata": {
        "id": "UNfRikctubNz",
        "colab_type": "text"
      },
      "cell_type": "markdown",
      "source": [
        "# Matrix class"
      ]
    },
    {
      "metadata": {
        "id": "hLX8VDFFuRH2",
        "colab_type": "code",
        "colab": {}
      },
      "cell_type": "code",
      "source": [
        "import math\n",
        "import random\n",
        "from fractions import Fraction\n",
        "import copy\n",
        "import matplotlib.pyplot as plt\n",
        "\n",
        "\n",
        "\"\"\"\n",
        "For plotting functions, pyplot is required locally\n",
        "with fig and ax set up before use.\n",
        "\n",
        "Example:\n",
        "  # required imports\n",
        "  import linalgebra as la\n",
        "  import matplotlib.pyplot as plt\n",
        "  \n",
        "  # figure setup\n",
        "  fig, ax = plt.subplots()\n",
        "  \n",
        "  # la and display\n",
        "  shape = la.Shape2D.unitsquare()\n",
        "  shape.plot(ax)\n",
        "  ax.axis(\"scaled\")\n",
        "\"\"\"\n",
        "\n",
        "\n",
        "\"\"\"Matrix class\"\"\"\n",
        "class Mat(object):\n",
        "  m = 1  # vertical length\n",
        "  n = 1  # horizontal length\n",
        "  values = []\n",
        "  is_float = False\n",
        "\n",
        "  def __init__(self, vals:list):\n",
        "    # False for int, True for float:\n",
        "    vals_float = False\n",
        "\n",
        "    m_temp = len(vals)\n",
        "    n_temp = len(vals[0])\n",
        "\n",
        "    for row in vals:\n",
        "      if len(row) != n_temp:\n",
        "        raise TypeError\n",
        "      for num in row:\n",
        "        if type(num) == float:\n",
        "          vals_float = True\n",
        "        elif type(num) != int:\n",
        "          raise TypeError\n",
        "    \n",
        "    self.values = vals[:]\n",
        "    self.m = m_temp\n",
        "    self.n = n_temp\n",
        "\n",
        "    if vals_float:\n",
        "      self.makefloat()\n",
        "\n",
        "  def __repr__(self):\n",
        "    text = \"\"\n",
        "    for row in self.values:\n",
        "      text += \"{}\\n\".format(row)\n",
        "    return text\n",
        "\n",
        "  def zeros(vert_num, hor_num):  # no need for self here\n",
        "    return Mat([[0]*hor_num for i in range(vert_num)])\n",
        " \n",
        "  def ones(vert_num, hor_num):\n",
        "    return Mat([[1]*hor_num for i in range(vert_num)])\n",
        "\n",
        "  def identity(num):\n",
        "    temp_mat = Mat.zeros(num, num)\n",
        "    for row_num in range(num):\n",
        "      temp_mat.values[row_num][row_num] = 1\n",
        "    return temp_mat\n",
        "\n",
        "  def randuniform(vert_num, hor_num, start=0, stop=1):  # returns float\n",
        "    new_values = [[random.uniform(start, stop) for i in range(hor_num)]\n",
        "      for j in range(vert_num)\n",
        "    ]\n",
        "    return Mat(new_values)\n",
        "\n",
        "  def randint(vert_num, hor_num, start, stop):  # inclusive\n",
        "    new_values = [[random.randint(start, stop) for i in range(hor_num)]\n",
        "      for j in range(vert_num)\n",
        "    ]\n",
        "    return Mat(new_values)\n",
        "\n",
        "  def _check_float(obj):  # no need for self in private method\n",
        "    if obj.is_float:\n",
        "      return True\n",
        "\n",
        "    for row in obj.values:\n",
        "\n",
        "      for val in row:\n",
        "        if type(val) == float:\n",
        "          obj.is_float = True\n",
        "          return True\n",
        "        elif type(val) != int:\n",
        "          raise TypeError\n",
        "    \n",
        "    return False\n",
        "\n",
        "  def makefloat(self):  # makes elements all float\n",
        "    self.is_float = True\n",
        "    for row_num in range(self.m):\n",
        "        self.values[row_num] = list(map(\n",
        "          float, self.values[row_num]\n",
        "        ))\n",
        "    return\n",
        "  \n",
        "  def _add(val1, val2):  # used for map\n",
        "    return val1 + val2\n",
        "  \n",
        "  def _mul(val1, val2):\n",
        "    return val1 * val2\n",
        "\n",
        "  def __add__(self, other):\n",
        "    temp_mat = self.copy()\n",
        "\n",
        "    if type(other) == type(temp_mat):\n",
        "\n",
        "      if temp_mat.m == other.m and temp_mat.n == other.n:\n",
        "        for row_num in range(len(temp_mat.values)):\n",
        "          temp_mat.values[row_num] = list(map(\n",
        "            Mat._add,\n",
        "            temp_mat.values[row_num], other.values[row_num]\n",
        "          ))\n",
        "      else:\n",
        "        raise TypeError\n",
        "\n",
        "    elif type(other) in (int, float):\n",
        "\n",
        "      for row_num in range(len(temp_mat.values)):\n",
        "        temp_mat.values[row_num] = list(map(\n",
        "          lambda x: x + other,\n",
        "          temp_mat.values[row_num]\n",
        "        ))\n",
        "\n",
        "    else:\n",
        "      raise TypeError\n",
        "    \n",
        "    if Mat._check_float(temp_mat):\n",
        "      temp_mat.makefloat()\n",
        "    \n",
        "    return temp_mat\n",
        "\n",
        "  def __sub__(self, other):\n",
        "    return self + other * -1\n",
        "\n",
        "  def power(self, other):\n",
        "    if type(other) not in (int, float):\n",
        "      raise TypeError\n",
        "    temp_mat = self.copy()\n",
        "\n",
        "    for row_num in range(len(temp_mat.values)):\n",
        "      temp_mat.values[row_num] = list(map(\n",
        "        lambda x: x ** other,\n",
        "        temp_mat.values[row_num]\n",
        "      ))\n",
        "\n",
        "    return temp_mat\n",
        "\n",
        "  def _check_type(obj):\n",
        "    classes = (\n",
        "      \"Mat\",\n",
        "      \"Transformation2D\",\n",
        "      \"Point2D\"\n",
        "    )\n",
        "    return obj.__class__.__name__ in classes\n",
        "\n",
        "  def _make_type(vals, new_type):\n",
        "    if new_type == type(Point2D(0, 0)):\n",
        "      return Point2D(vals[0][0], vals[1][0])\n",
        "    \n",
        "    return new_type(vals)\n",
        "\n",
        "  def _check_mul_compat(obj, other):\n",
        "    return obj.n == other.m and \\\n",
        "      Mat._check_type(obj) and Mat._check_type(other)\n",
        "\n",
        "  def matmul(self, other):\n",
        "    saved_type = type(self)  # to return correct type\n",
        "    if other.__class__.__name__ == \"Point2D\" or \\\n",
        "      (\n",
        "        self.__class__.__name__ == \"Transformation2D\" and\n",
        "        not (other.m == other.n == 2)\n",
        "      ):\n",
        "      saved_type = type(other)\n",
        "    \n",
        "    new_values = [[0]*other.n for i in range(self.m)]\n",
        "    other_tr = other.transpose()\n",
        "\n",
        "    if Mat._check_mul_compat(self, other):\n",
        "\n",
        "      for row_num in range(self.m):\n",
        "        for col_num in range(other.n):\n",
        "          new_values[row_num][col_num] = sum(map(\n",
        "            Mat._mul,\n",
        "            self.values[row_num], other_tr.values[col_num]\n",
        "          ))\n",
        "\n",
        "    else:\n",
        "      raise TypeError\n",
        "\n",
        "    return Mat._make_type(new_values, saved_type)\n",
        "\n",
        "  def __mul__(self, other):\n",
        "    temp_mat = None\n",
        "\n",
        "    if type(other) == int or type(other) == float:\n",
        "      temp_mat = self.simplemul(other)\n",
        "\n",
        "      if Mat._check_float(temp_mat):\n",
        "        temp_mat.makefloat()\n",
        "\n",
        "    else:\n",
        "      temp_mat = self.matmul(other)\n",
        "\n",
        "    return temp_mat\n",
        "\n",
        "  def simplemul(self, other):  # allows other to be Fraction\n",
        "    temp_mat = self.copy()\n",
        "    for row_num in range(len(temp_mat.values)):\n",
        "      temp_mat.values[row_num] = list(map(\n",
        "        lambda x: x * other,\n",
        "        temp_mat.values[row_num]\n",
        "      ))\n",
        "    return temp_mat\n",
        "\n",
        "  def hadprod(self, other):  # Hadamard product i.e. element-wise mul\n",
        "    if type(self) != type(other) or \\\n",
        "      self.m != other.m or self.n != other.n:\n",
        "      raise TypeError\n",
        "    temp_mat = self.copy()\n",
        "    \n",
        "    for row_num in range(temp_mat.m):\n",
        "      temp_mat.values[row_num] = list(map(\n",
        "        Mat._mul,\n",
        "        temp_mat.values[row_num], other.values[row_num]\n",
        "      ))\n",
        "    return temp_mat\n",
        "\n",
        "  def dotprod(self, other):\n",
        "    if type(self) != type(other) or \\\n",
        "      self.m != other.m or self.n != other.n or \\\n",
        "      (self.m != 1 and self.n != 1):  # check for vectors\n",
        "      raise TypeError\n",
        "    \n",
        "    temp_mat = self.copy()\n",
        "    other_temp = other.copy()\n",
        "\n",
        "    if self.m == 1:\n",
        "      other_temp = other_temp.transpose()\n",
        "    else:\n",
        "      temp_mat = temp_mat.transpose()\n",
        "\n",
        "    temp_mat = temp_mat.matmul(other_temp)\n",
        "    \n",
        "    return temp_mat.values[0][0]\n",
        "\n",
        "  def cofactors(self):\n",
        "    if self.m <= 2:\n",
        "      return self\n",
        "\n",
        "    temp_mat = Mat.zeros(self.m, self.m)\n",
        "    for row_num in range(self.m):\n",
        "      for col_num in range(self.m):\n",
        "        square = self.deepcopy()\n",
        "        square.delcol(col_num)\n",
        "        square.delrow(row_num)\n",
        "        temp_mat.values[row_num][col_num] = \\\n",
        "          square.det() * (-1)**(row_num + col_num)\n",
        "    return temp_mat\n",
        "\n",
        "  def inverse(self):\n",
        "    the_det = self.det()  # includes dimension validation\n",
        "    if self.det() == 0:\n",
        "      return\n",
        "    \n",
        "    the_adj = self.cofactors().transpose()\n",
        "\n",
        "    return the_adj * (1/the_det)\n",
        "\n",
        "  def fracinverse(self):  # returns Mat of Fraction\n",
        "    the_det = self.det()\n",
        "    if self.det() == 0:\n",
        "      return\n",
        "    \n",
        "    the_adj = self.cofactors().transpose()\n",
        "\n",
        "    return the_adj.simplemul(Fraction(1, the_det))\n",
        "\n",
        "  def det(self):\n",
        "    if self.m != self.n:\n",
        "      raise TypeError\n",
        "    if self.m == 1:\n",
        "      return self.values[0][0]\n",
        "    if self.m == 2:\n",
        "      return self.values[0][0] * self.values[1][1] \\\n",
        "        - self.values[0][1] * self.values[1][0]\n",
        "    \n",
        "    dets = []\n",
        "    for col_num in range(self.m):\n",
        "      new_square = self.deepcopy()\n",
        "      new_square.delrow(0)\n",
        "      new_square.delcol(col_num)\n",
        "      dets.append(new_square.det())\n",
        "    \n",
        "    return sum((-1)**i * dets[i] * self.values[0][i]\n",
        "      for i in range(self.m)\n",
        "    )\n",
        "\n",
        "  def copy(self):\n",
        "    saved_type = type(self)\n",
        "    new_values = self.values[:]\n",
        "    return Mat._make_type(new_values, saved_type)\n",
        "\n",
        "  def deepcopy(self):\n",
        "    saved_type = type(self)\n",
        "    new_values = copy.deepcopy(self.values)\n",
        "    return Mat._make_type(new_values, saved_type)\n",
        "\n",
        "  def get(self, key1, key2):\n",
        "    if key2 == \"all\":\n",
        "      return self.values[key1]\n",
        "    return self.values[key1][key2]\n",
        "\n",
        "  def alter(self, key1, key2, val):\n",
        "    self.values[key1][key2] = val\n",
        "    if Mat._check_float(self):\n",
        "      self.makefloat()\n",
        "    return\n",
        "\n",
        "  def delcol(self, col_num):\n",
        "    for row_num in range(self.m):\n",
        "      del self.values[row_num][col_num]\n",
        "    self.n -= 1\n",
        "    return\n",
        "  \n",
        "  def delrow(self, row_num):\n",
        "    del self.values[row_num]\n",
        "    self.m -= 1\n",
        "    return\n",
        "\n",
        "  def insert(self, vals:list, pos:int = 0, orientation:str = \"r\"):\n",
        "    \"\"\"\n",
        "    pos - index of matrix at which to insert new values\n",
        "    orientation - 'r' for row or 'c' for column\n",
        "    \"\"\"\n",
        "    if orientation == \"r\":\n",
        "      if len(vals) != self.n or pos < 0 or pos > self.m:\n",
        "        raise TypeError\n",
        "      self.values.insert(pos, vals)\n",
        "      self.m += 1\n",
        "    \n",
        "    elif orientation == \"c\":\n",
        "      if len(vals) != self.m or pos < 0 or pos > self.n:\n",
        "        raise TypeError\n",
        "      for row_num in range(self.n):\n",
        "        self.values[row_num].insert(pos, vals[row_num])\n",
        "      self.n += 1\n",
        "    \n",
        "    else:\n",
        "      raise TypeError\n",
        "\n",
        "    if Mat._check_float(self):\n",
        "      self.makefloat()\n",
        "    \n",
        "    return\n",
        "  \n",
        "  def transpose(self):\n",
        "    saved_type = type(self)\n",
        "    if self.__class__.__name__ == \"Point2D\":\n",
        "      saved_type = Mat\n",
        "    new_values = list(map(list, zip(*self.values)))\n",
        "    return saved_type(new_values)\n",
        "\n",
        "\n",
        "\"\"\"Transformation matrix class for 2D plot\"\"\"\n",
        "class Transformation2D(Mat):  # square 2 x 2\n",
        "\n",
        "  def __init__(self, vals:list):\n",
        "    super().__init__(vals)\n",
        "\n",
        "    if not (self.m == self.n == 2):\n",
        "      raise TypeError\n",
        "\n",
        "  def applyunitsq(self):\n",
        "    shape = Shape2D.unitsquare()\n",
        "    shape.transform(self)\n",
        "    return shape\n",
        "\n",
        "\n",
        "\"\"\"Point class for 2D plot\"\"\"\n",
        "class Point2D(Mat):  # vector 2 x 1\n",
        "  plotsize = 5\n",
        "  def __init__(self, x, y, plotsize=5):\n",
        "    super().__init__([[x], [y]])\n",
        "    self.plotsize = plotsize\n",
        "\n",
        "  def x(self):\n",
        "    return self.get(0, 0)\n",
        "\n",
        "  def y(self):\n",
        "    return self.get(1, 0)\n",
        "\n",
        "  def alter(self, x, y):\n",
        "    super().alter(0, 0, x)\n",
        "    super().alter(1, 0, y)\n",
        "    return\n",
        "\n",
        "  def plot(self, ax):\n",
        "    ax.plot(self.x(), self.y(), \"o\", ms=self.plotsize)\n",
        "\n",
        "\n",
        "\n",
        "\"\"\"Shape class for 2D plot\"\"\"\n",
        "class Shape2D(object):\n",
        "  points = []\n",
        "  anchor = 0\n",
        "  # anchor is point from which shape is drawn, rotated, etc\n",
        "\n",
        "  def __init__(self, points:list):\n",
        "    self.points = points\n",
        "\n",
        "  def __repr__(self):\n",
        "    ret_str = \"Shape2D points:\\n\"\n",
        "\n",
        "    for p in self.points:\n",
        "      ret_str += p.transpose().__repr__()\n",
        "    \n",
        "    return ret_str\n",
        "\n",
        "  def unitsquare():\n",
        "    return Shape2D([\n",
        "      Point2D(0, 0),\n",
        "      Point2D(1, 0),\n",
        "      Point2D(1, 1),\n",
        "      Point2D(0, 1)\n",
        "    ])\n",
        "\n",
        "  def transform(self, t_mat):\n",
        "    for p_num, p in enumerate(self.points):\n",
        "      self.points[p_num] = t_mat * p\n",
        "    return\n",
        "\n",
        "  def translate(self, x, y):\n",
        "\n",
        "    if len(self.points) == 1:\n",
        "      saved_x = self.points[0].x()\n",
        "      saved_y = self.points[0].y()\n",
        "      self.points[0].alter(x + saved_x, y + saved_y)\n",
        "      return\n",
        "\n",
        "    t_point = Point2D(x, y)  # translation vector\n",
        "\n",
        "    for p_num in range(len(self.points)):\n",
        "      self.points[p_num] += t_point\n",
        "    return\n",
        "\n",
        "  def setorigin(self):\n",
        "    t_point = self.points[0]  # translation vector\n",
        "    self.translate(-t_point.x(), -t_point.y())\n",
        "\n",
        "  def _get_trig(degrees):\n",
        "    # for more accurate trig with rationals\n",
        "    rad = math.radians(degrees)\n",
        "    sine = 0\n",
        "    cosine = 0\n",
        "    rem = degrees % 360\n",
        "\n",
        "    if rem in (30, 150):\n",
        "      sine = 0.5\n",
        "      cosine = math.cos(rad)\n",
        "    elif rem in (60, 300):\n",
        "      sine = math.sin(rad)\n",
        "      cosine = 0.5\n",
        "    elif rem in (210, 330):\n",
        "      sine = -0.5\n",
        "      cosine = math.cos(rad)\n",
        "    elif rem in (120, 240):\n",
        "      sine = math.sin(rad)\n",
        "      cosine = -0.5\n",
        "    elif rem == 0:\n",
        "      sine = 0\n",
        "      cosine = 1\n",
        "    elif rem == 90:\n",
        "      sine = 1\n",
        "      cosine = 0\n",
        "    elif rem == 180:\n",
        "      sine = 0\n",
        "      cosine = -1\n",
        "    elif rem == 270:\n",
        "      sine = -1\n",
        "      cosine = 0\n",
        "    else:\n",
        "      sine = math.sin(rad)\n",
        "      cosine = math.cos(rad)\n",
        "    \n",
        "    return sine, cosine\n",
        "\n",
        "  def reflect(self, degrees):\n",
        "    \"\"\"\n",
        "    degrees is angle between line through anchor and\n",
        "    line parallel to x axis\n",
        "    \"\"\"\n",
        "    \n",
        "    sin, cos = Shape2D._get_trig(2*degrees)\n",
        "\n",
        "    saved_anchor = self.points[self.anchor]\n",
        "    self.setorigin()\n",
        "\n",
        "    t_mat = Transformation2D([\n",
        "      [cos, sin],\n",
        "      [sin, -cos]\n",
        "    ])\n",
        "    self.transform(t_mat)\n",
        "\n",
        "    self.translate(saved_anchor.x(), saved_anchor.y())\n",
        "    return\n",
        "\n",
        "  def rotate(self, degrees):\n",
        "    \"\"\"\n",
        "    degrees is anticlockwise from line parallel to x axis\n",
        "    rotates about anchor\n",
        "    \"\"\"\n",
        "\n",
        "    sin, cos = Shape2D._get_trig(degrees)\n",
        "\n",
        "    saved_anchor = self.points[self.anchor]\n",
        "    self.setorigin()\n",
        "\n",
        "    t_mat = Transformation2D([\n",
        "      [cos, -sin],\n",
        "      [sin, cos]\n",
        "    ])\n",
        "    self.transform(t_mat)\n",
        "    \n",
        "    self.translate(saved_anchor.x(), saved_anchor.y())\n",
        "    return\n",
        "\n",
        "  def enlarge(self, x, y):\n",
        "    if len(self.points) == 1:\n",
        "      self.points[0].plotsize *= x\n",
        "      return\n",
        "\n",
        "    saved_anchor = self.points[self.anchor]\n",
        "    self.setorigin()\n",
        "\n",
        "    t_mat = Transformation2D([\n",
        "      [x, 0],\n",
        "      [0, y]\n",
        "    ])\n",
        "    self.transform(t_mat)\n",
        "\n",
        "    self.translate(saved_anchor.x(), saved_anchor.y())\n",
        "    return\n",
        "\n",
        "  def copy(self):\n",
        "    return Shape2D(self.points[:])\n",
        "\n",
        "  def deepcopy(self):\n",
        "    new_points = []\n",
        "    for p in self.points:\n",
        "      new_points.append(p.deepcopy())\n",
        "    return Shape2D(new_points)\n",
        "\n",
        "  def plot(self, ax):\n",
        "    if len(self.points) == 1:\n",
        "      self.points[0].plot(ax)\n",
        "\n",
        "    x = []\n",
        "    y = []\n",
        "    for p in self.points:\n",
        "      x.append(p.x())\n",
        "      y.append(p.y())\n",
        "\n",
        "    ax.fill(x, y)\n",
        "    return\n"
      ],
      "execution_count": 0,
      "outputs": []
    },
    {
      "metadata": {
        "id": "SJv4IgQTu2M4",
        "colab_type": "text"
      },
      "cell_type": "markdown",
      "source": [
        "# Linear Regression"
      ]
    },
    {
      "metadata": {
        "id": "Up-Un7Cy0BLE",
        "colab_type": "text"
      },
      "cell_type": "markdown",
      "source": [
        "## Data"
      ]
    },
    {
      "metadata": {
        "id": "6JBelTa6u6-1",
        "colab_type": "code",
        "colab": {
          "resources": {
            "http://localhost:8080/nbextensions/google.colab/files.js": {
              "data": "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",
              "ok": true,
              "headers": [
                [
                  "content-type",
                  "application/javascript"
                ]
              ],
              "status": 200,
              "status_text": ""
            }
          },
          "base_uri": "https://localhost:8080/",
          "height": 73
        },
        "outputId": "e4e592c0-3fd0-41b7-a4f5-f25f6259d2ef"
      },
      "cell_type": "code",
      "source": [
        "from google.colab import files\n",
        "\n",
        "data = files.upload()"
      ],
      "execution_count": 34,
      "outputs": [
        {
          "output_type": "display_data",
          "data": {
            "text/html": [
              "\n",
              "     <input type=\"file\" id=\"files-d02f04f3-1e72-478b-9f3f-2a3e5ea5dd90\" name=\"files[]\" multiple disabled />\n",
              "     <output id=\"result-d02f04f3-1e72-478b-9f3f-2a3e5ea5dd90\">\n",
              "      Upload widget is only available when the cell has been executed in the\n",
              "      current browser session. Please rerun this cell to enable.\n",
              "      </output>\n",
              "      <script src=\"/nbextensions/google.colab/files.js\"></script> "
            ],
            "text/plain": [
              "<IPython.core.display.HTML object>"
            ]
          },
          "metadata": {
            "tags": []
          }
        },
        {
          "output_type": "stream",
          "text": [
            "Saving ex1data1.txt to ex1data1 (1).txt\n"
          ],
          "name": "stdout"
        }
      ]
    },
    {
      "metadata": {
        "id": "wm7XovtbwJ20",
        "colab_type": "code",
        "colab": {}
      },
      "cell_type": "code",
      "source": [
        "data1 = data[\"ex1data1.txt\"].split()\n",
        "for row_num in range(len(data1)):\n",
        "  data1[row_num] = list(map(float, data1[row_num].split(b\",\")))"
      ],
      "execution_count": 0,
      "outputs": []
    },
    {
      "metadata": {
        "id": "_8ewVMgKw6RR",
        "colab_type": "code",
        "colab": {}
      },
      "cell_type": "code",
      "source": [
        "datamat = Mat(data1)"
      ],
      "execution_count": 0,
      "outputs": []
    },
    {
      "metadata": {
        "id": "AHSkJAf7w9hA",
        "colab_type": "text"
      },
      "cell_type": "markdown",
      "source": [
        "A short snippet of the data is shown below."
      ]
    },
    {
      "metadata": {
        "id": "EBR9m0B-y4hb",
        "colab_type": "code",
        "colab": {
          "base_uri": "https://localhost:8080/",
          "height": 197
        },
        "outputId": "128c1916-6744-4b62-aa97-49964e78583c"
      },
      "cell_type": "code",
      "source": [
        "for i in range(10):\n",
        "  print(datamat.get(i, \"all\"))"
      ],
      "execution_count": 281,
      "outputs": [
        {
          "output_type": "stream",
          "text": [
            "[6.1101, 17.592]\n",
            "[5.5277, 9.1302]\n",
            "[8.5186, 13.662]\n",
            "[7.0032, 11.854]\n",
            "[5.8598, 6.8233]\n",
            "[8.3829, 11.886]\n",
            "[7.4764, 4.3483]\n",
            "[8.5781, 12.0]\n",
            "[6.4862, 6.5987]\n",
            "[5.0546, 3.8166]\n"
          ],
          "name": "stdout"
        }
      ]
    },
    {
      "metadata": {
        "id": "SJwy3EwAznqL",
        "colab_type": "code",
        "colab": {}
      },
      "cell_type": "code",
      "source": [
        "import matplotlib.pyplot as plt\n",
        "%matplotlib inline"
      ],
      "execution_count": 0,
      "outputs": []
    },
    {
      "metadata": {
        "id": "fXO3dzGG0mIP",
        "colab_type": "code",
        "colab": {
          "base_uri": "https://localhost:8080/",
          "height": 284
        },
        "outputId": "8770b0b3-ff42-44c3-faa4-e46880b854f7"
      },
      "cell_type": "code",
      "source": [
        "data_t = datamat.transpose()\n",
        "x_plot = data_t.get(0, \"all\")\n",
        "y_plot = data_t.get(1, \"all\")\n",
        "plt.plot(x_plot, y_plot, \"o\")"
      ],
      "execution_count": 283,
      "outputs": [
        {
          "output_type": "execute_result",
          "data": {
            "text/plain": [
              "[<matplotlib.lines.Line2D at 0x7fa87dce7e10>]"
            ]
          },
          "metadata": {
            "tags": []
          },
          "execution_count": 283
        },
        {
          "output_type": "display_data",
          "data": {
            "image/png": "[encoded data removed]",
            "text/plain": [
              "<matplotlib.figure.Figure at 0x7fa87dce0ba8>"
            ]
          },
          "metadata": {
            "tags": []
          }
        }
      ]
    },
    {
      "metadata": {
        "id": "Vug2E4Ll4R5v",
        "colab_type": "text"
      },
      "cell_type": "markdown",
      "source": [
        "## Gradient descent"
      ]
    },
    {
      "metadata": {
        "id": "g6VySwcHDYDz",
        "colab_type": "text"
      },
      "cell_type": "markdown",
      "source": [
        "**Using the cost function J shown below.**"
      ]
    },
    {
      "metadata": {
        "id": "pQlUajloCYuZ",
        "colab_type": "text"
      },
      "cell_type": "markdown",
      "source": [
        "![alt text](https://i.stack.imgur.com/tPhVh.png)"
      ]
    },
    {
      "metadata": {
        "id": "FLvssQk2CvgR",
        "colab_type": "text"
      },
      "cell_type": "markdown",
      "source": [
        "Hypothesis function h is used in \"predictions\" in the code below. It is simply X\\*theta."
      ]
    },
    {
      "metadata": {
        "id": "unCaJ9Bj2DQG",
        "colab_type": "code",
        "colab": {}
      },
      "cell_type": "code",
      "source": [
        "def cost(X, y, theta):\n",
        "  predictions = X*theta\n",
        "  sqr_errors = (predictions - y).power(2)\n",
        "  J_mat = (sqr_errors.transpose() * Mat.ones(y.m, 1)) * (1/(2*y.m))\n",
        "  \n",
        "  return J_mat.get(0, 0)"
      ],
      "execution_count": 0,
      "outputs": []
    },
    {
      "metadata": {
        "id": "8Qy8tT4AD4JV",
        "colab_type": "code",
        "colab": {}
      },
      "cell_type": "code",
      "source": [
        "def graddesc(X, y, theta, alpha, num_iters):\n",
        "  J_history = Mat.zeros(1, num_iters)\n",
        "\n",
        "  for itr in range(num_iters):\n",
        "    x = X.deepcopy()\n",
        "    x.delcol(0)\n",
        "    h = x*theta.get(1, 0) + theta.get(0, 0)\n",
        "    \n",
        "    temp_theta = ((h-y).transpose() * Mat.ones(y.m, 1)).get(0, 0)\n",
        "    theta_zero = theta.get(0, 0) - alpha * (1/y.m) * temp_theta\n",
        "    \n",
        "    temp_theta = (((h-y).hadprod(x)).transpose() * Mat.ones(y.m, 1)).get(0, 0)\n",
        "    theta_one = theta.get(1, 0) - alpha * (1/y.m) * temp_theta\n",
        "    \n",
        "    theta = Mat([\n",
        "      [theta_zero],\n",
        "      [theta_one]\n",
        "    ])\n",
        "    \n",
        "    J_history.values[0][itr] = cost(X, y, theta)\n",
        "  \n",
        "  return theta, J_history"
      ],
      "execution_count": 0,
      "outputs": []
    },
    {
      "metadata": {
        "id": "KBJM0AMA-cD3",
        "colab_type": "code",
        "colab": {}
      },
      "cell_type": "code",
      "source": [
        "the_X = Mat([x_plot])\n",
        "the_X.insert([1]*the_X.n)  # bias\n",
        "the_X = the_X.transpose()\n",
        "\n",
        "the_y = Mat([y_plot]).transpose()\n",
        "\n",
        "the_theta = Mat.zeros(2, 1)"
      ],
      "execution_count": 0,
      "outputs": []
    },
    {
      "metadata": {
        "id": "5MnwR_7WNkv9",
        "colab_type": "text"
      },
      "cell_type": "markdown",
      "source": [
        "### Before training"
      ]
    },
    {
      "metadata": {
        "id": "4ftUu2kl--a0",
        "colab_type": "code",
        "colab": {
          "base_uri": "https://localhost:8080/",
          "height": 71
        },
        "outputId": "2fd45053-fe86-4a48-8a32-ae72b1cfc23e"
      },
      "cell_type": "code",
      "source": [
        "the_theta"
      ],
      "execution_count": 287,
      "outputs": [
        {
          "output_type": "execute_result",
          "data": {
            "text/plain": [
              "\n",
              "[0]\n",
              "[0]"
            ]
          },
          "metadata": {
            "tags": []
          },
          "execution_count": 287
        }
      ]
    },
    {
      "metadata": {
        "id": "d7Dosv4-AKGF",
        "colab_type": "code",
        "colab": {}
      },
      "cell_type": "code",
      "source": [
        "iterations = 5000\n",
        "the_alpha = 0.01"
      ],
      "execution_count": 0,
      "outputs": []
    },
    {
      "metadata": {
        "id": "rCge_Nt6AcB_",
        "colab_type": "code",
        "colab": {
          "base_uri": "https://localhost:8080/",
          "height": 35
        },
        "outputId": "08b7d3d0-bc53-4b58-8708-22be906270e6"
      },
      "cell_type": "code",
      "source": [
        "cost(the_X, the_y, the_theta)"
      ],
      "execution_count": 289,
      "outputs": [
        {
          "output_type": "execute_result",
          "data": {
            "text/plain": [
              "32.072733877455654"
            ]
          },
          "metadata": {
            "tags": []
          },
          "execution_count": 289
        }
      ]
    },
    {
      "metadata": {
        "id": "rSJ26It-U9c9",
        "colab_type": "code",
        "colab": {
          "base_uri": "https://localhost:8080/",
          "height": 305
        },
        "outputId": "2b67fbb2-3215-43d4-cf93-5554eed27089"
      },
      "cell_type": "code",
      "source": [
        "pred_mat = (the_X * the_theta).transpose()\n",
        "pred = pred_mat.get(0, \"all\")\n",
        "plt.plot(x_plot, y_plot, \"o\")\n",
        "plt.plot(x_plot, pred, \"-\")\n",
        "plt.xlabel(\"x\", fontsize=18)\n",
        "plt.ylabel(\"y\", fontsize=18)"
      ],
      "execution_count": 290,
      "outputs": [
        {
          "output_type": "execute_result",
          "data": {
            "text/plain": [
              "Text(0,0.5,'y')"
            ]
          },
          "metadata": {
            "tags": []
          },
          "execution_count": 290
        },
        {
          "output_type": "display_data",
          "data": {
            "image/png": "[encoded data removed]",
            "text/plain": [
              "<matplotlib.figure.Figure at 0x7fa87de11828>"
            ]
          },
          "metadata": {
            "tags": []
          }
        }
      ]
    },
    {
      "metadata": {
        "id": "uWqUQiUyNyEV",
        "colab_type": "text"
      },
      "cell_type": "markdown",
      "source": [
        "### After training"
      ]
    },
    {
      "metadata": {
        "id": "F929N__oAgNk",
        "colab_type": "code",
        "colab": {}
      },
      "cell_type": "code",
      "source": [
        "the_theta, J_hist = graddesc(the_X, the_y, the_theta, the_alpha, iterations)"
      ],
      "execution_count": 0,
      "outputs": []
    },
    {
      "metadata": {
        "id": "Zd9UUMosM3CD",
        "colab_type": "code",
        "colab": {
          "base_uri": "https://localhost:8080/",
          "height": 71
        },
        "outputId": "3169b221-7d9b-4ee8-c31c-0e92d5a92374"
      },
      "cell_type": "code",
      "source": [
        "the_theta"
      ],
      "execution_count": 292,
      "outputs": [
        {
          "output_type": "execute_result",
          "data": {
            "text/plain": [
              "\n",
              "[-3.895300510657168]\n",
              "[1.1929853860482198]"
            ]
          },
          "metadata": {
            "tags": []
          },
          "execution_count": 292
        }
      ]
    },
    {
      "metadata": {
        "id": "CFZmuSTHPX9t",
        "colab_type": "code",
        "colab": {
          "base_uri": "https://localhost:8080/",
          "height": 305
        },
        "outputId": "71343e79-97eb-4e65-cf6c-5f441b055895"
      },
      "cell_type": "code",
      "source": [
        "pred_mat = (the_X * the_theta).transpose()\n",
        "pred = pred_mat.get(0, \"all\")\n",
        "plt.plot(x_plot, y_plot, \"o\")\n",
        "plt.plot(x_plot, pred, \"-\")\n",
        "plt.xlabel(\"x\", fontsize=18)\n",
        "plt.ylabel(\"y\", fontsize=18)"
      ],
      "execution_count": 293,
      "outputs": [
        {
          "output_type": "execute_result",
          "data": {
            "text/plain": [
              "Text(0,0.5,'y')"
            ]
          },
          "metadata": {
            "tags": []
          },
          "execution_count": 293
        },
        {
          "output_type": "display_data",
          "data": {
            "image/png": "[encoded data removed]",
            "text/plain": [
              "<matplotlib.figure.Figure at 0x7fa87dc80278>"
            ]
          },
          "metadata": {
            "tags": []
          }
        }
      ]
    },
    {
      "metadata": {
        "id": "J5a5Jjg2TjS2",
        "colab_type": "code",
        "colab": {}
      },
      "cell_type": "code",
      "source": [
        "some_data = Mat([[1.0, 7.4764]])  # y = 4.3483\n",
        "some_pred = some_data * the_theta"
      ],
      "execution_count": 0,
      "outputs": []
    },
    {
      "metadata": {
        "id": "P3uwR1m3Vo5n",
        "colab_type": "code",
        "colab": {
          "base_uri": "https://localhost:8080/",
          "height": 35
        },
        "outputId": "2e953611-d494-4431-dd46-a8057dbf40b8"
      },
      "cell_type": "code",
      "source": [
        "some_pred.get(0, 0)"
      ],
      "execution_count": 295,
      "outputs": [
        {
          "output_type": "execute_result",
          "data": {
            "text/plain": [
              "5.023935429593743"
            ]
          },
          "metadata": {
            "tags": []
          },
          "execution_count": 295
        }
      ]
    },
    {
      "metadata": {
        "id": "J-9SQIF9TIu4",
        "colab_type": "code",
        "colab": {
          "base_uri": "https://localhost:8080/",
          "height": 304
        },
        "outputId": "534c4ab4-528f-43a3-9e17-6f439c71856e"
      },
      "cell_type": "code",
      "source": [
        "J_plot = J_hist.get(0, \"all\")\n",
        "linear = range(len(J_plot))\n",
        "plt.plot(linear, J_plot, \"-\")\n",
        "plt.xlabel(\"number of iterations\", fontsize=18)\n",
        "plt.ylabel(\"cost\", fontsize=18)"
      ],
      "execution_count": 296,
      "outputs": [
        {
          "output_type": "execute_result",
          "data": {
            "text/plain": [
              "Text(0,0.5,'cost')"
            ]
          },
          "metadata": {
            "tags": []
          },
          "execution_count": 296
        },
        {
          "output_type": "display_data",
          "data": {
            "image/png": "[encoded data removed]",
            "text/plain": [
              "<matplotlib.figure.Figure at 0x7fa87dc422b0>"
            ]
          },
          "metadata": {
            "tags": []
          }
        }
      ]
    },
    {
      "metadata": {
        "id": "x7tjlnQhW1pI",
        "colab_type": "code",
        "colab": {}
      },
      "cell_type": "code",
      "source": [
        ""
      ],
      "execution_count": 0,
      "outputs": []
    }
  ]
}