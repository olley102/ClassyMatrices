{
  "nbformat": 4,
  "nbformat_minor": 0,
  "metadata": {
    "colab": {
      "name": "CustomLinearReg.ipynb",
      "version": "0.3.2",
      "provenance": []
    },
    "kernelspec": {
      "name": "python3",
      "display_name": "Python 3"
    }
  },
  "cells": [
    {
      "cell_type": "markdown",
      "metadata": {
        "id": "view-in-github",
        "colab_type": "text"
      },
      "source": [
        "[View in Colaboratory](https://colab.research.google.com/github/olley102/NotANumPyCopy/blob/master/CustomLinearReg.ipynb)"
      ]
    },
    {
      "metadata": {
        "id": "UNfRikctubNz",
        "colab_type": "text"
      },
      "cell_type": "markdown",
      "source": [
        "# Matrix class"
      ]
    },
    {
      "metadata": {
        "id": "hLX8VDFFuRH2",
        "colab_type": "code",
        "colab": {}
      },
      "cell_type": "code",
      "source": [
        "class Mat(object):\n",
        "  m = 1  # vertical length\n",
        "  n = 1  # horizontal length\n",
        "  values = []\n",
        "  is_float = False\n",
        "\n",
        "\n",
        "  def __init__(self, vals:list):\n",
        "    # False for int, True for float:\n",
        "    vals_float = False\n",
        "\n",
        "    m_temp = len(vals)\n",
        "    n_temp = len(vals[0])\n",
        "\n",
        "    for row in vals:\n",
        "      if len(row) != n_temp:\n",
        "        raise TypeError\n",
        "      for num in row:\n",
        "        if type(num) == float:\n",
        "          vals_float = True\n",
        "        elif type(num) != int:\n",
        "          raise TypeError\n",
        "    \n",
        "    self.values = vals[:]\n",
        "    self.m = m_temp\n",
        "    self.n = n_temp\n",
        "\n",
        "    if vals_float:\n",
        "      self.makefloat()\n",
        "\n",
        "\n",
        "  def __repr__(self):\n",
        "    text = \"\\n\"\n",
        "    for row in self.values:\n",
        "      text += \"{}\\n\".format(row)\n",
        "    return text  \n",
        "\n",
        "\n",
        "  def zeros(vert_num, hor_num):  # no need for self here\n",
        "    return Mat([[0]*hor_num for i in range(vert_num)])\n",
        "  \n",
        "\n",
        "  def ones(vert_num, hor_num):\n",
        "    return Mat([[1]*hor_num for i in range(vert_num)])\n",
        "\n",
        "\n",
        "  def identity(num):\n",
        "    temp_mat = Mat.zeros(num, num)\n",
        "    for row_num in range(num):\n",
        "      temp_mat.values[row_num][row_num] = 1\n",
        "    return temp_mat\n",
        "\n",
        "\n",
        "  def randuniform(vert_num, hor_num, start=0, stop=1):  # returns float\n",
        "    import random\n",
        "    new_values = [[random.uniform(start, stop) for i in range(hor_num)]\n",
        "      for j in range(vert_num)\n",
        "    ]\n",
        "    return Mat(new_values)\n",
        "\n",
        "\n",
        "  def randint(vert_num, hor_num, start, stop):  # inclusive\n",
        "    import random\n",
        "    new_values = [[random.randint(start, stop) for i in range(hor_num)]\n",
        "      for j in range(vert_num)\n",
        "    ]\n",
        "    return Mat(new_values)\n",
        "\n",
        "\n",
        "  def _check_float(obj):  # no need for self in private method\n",
        "    if obj.is_float:\n",
        "      return True\n",
        "\n",
        "    for row in obj.values:\n",
        "\n",
        "      for val in row:\n",
        "        if type(val) == float:\n",
        "          obj.is_float = True\n",
        "          return True\n",
        "        elif type(val) != int:\n",
        "          raise TypeError\n",
        "    \n",
        "    return False\n",
        "\n",
        "\n",
        "  def makefloat(self):  # makes elements all float\n",
        "    self.is_float = True\n",
        "    for row_num in range(self.m):\n",
        "        self.values[row_num] = list(map(\n",
        "          float, self.values[row_num]\n",
        "        ))\n",
        "    return\n",
        "  \n",
        "\n",
        "  def _add(val1, val2):  # used for map\n",
        "    return val1 + val2\n",
        "  \n",
        "\n",
        "  def _mul(val1, val2):\n",
        "    return val1 * val2\n",
        "\n",
        "\n",
        "  def __add__(self, other):\n",
        "    temp_mat = self.copy()\n",
        "\n",
        "    if type(other) == type(temp_mat):\n",
        "\n",
        "      if temp_mat.m == other.m and temp_mat.n == other.n:\n",
        "        for row_num in range(len(temp_mat.values)):\n",
        "          temp_mat.values[row_num] = list(map(\n",
        "            Mat._add,\n",
        "            temp_mat.values[row_num], other.values[row_num]\n",
        "          ))\n",
        "      else:\n",
        "        raise TypeError\n",
        "\n",
        "    elif type(other) in (int, float):\n",
        "\n",
        "      for row_num in range(len(temp_mat.values)):\n",
        "        temp_mat.values[row_num] = list(map(\n",
        "          lambda x: x + other,\n",
        "          temp_mat.values[row_num]\n",
        "        ))\n",
        "\n",
        "    else:\n",
        "      raise TypeError\n",
        "    \n",
        "    if Mat._check_float(temp_mat):\n",
        "      temp_mat.makefloat()\n",
        "    \n",
        "    return temp_mat\n",
        "\n",
        "  \n",
        "  def __sub__(self, other):\n",
        "    return self + other * -1\n",
        "  \n",
        "  \n",
        "  def power(self, other):\n",
        "    if type(other) not in (int, float):\n",
        "      raise TypeError\n",
        "    temp_mat = self.copy()\n",
        "\n",
        "    for row_num in range(len(temp_mat.values)):\n",
        "      temp_mat.values[row_num] = list(map(\n",
        "        lambda x: x ** other,\n",
        "        temp_mat.values[row_num]\n",
        "      ))\n",
        "\n",
        "    return temp_mat\n",
        "  \n",
        "\n",
        "  def _check_mul_compat(obj, other):\n",
        "    return obj.n == other.m and type(obj) == type(other)\n",
        "\n",
        "\n",
        "  def matmul(self, other):\n",
        "    new_values = [[0]*other.n for i in range(self.m)]\n",
        "    other_tr = other.transpose()\n",
        "\n",
        "    if Mat._check_mul_compat(self, other):\n",
        "\n",
        "      for row_num in range(self.m):\n",
        "        for col_num in range(other.n):\n",
        "          new_values[row_num][col_num] = sum(map(\n",
        "            Mat._mul,\n",
        "            self.values[row_num], other_tr.values[col_num]\n",
        "          ))\n",
        "\n",
        "    else:\n",
        "      raise TypeError\n",
        "\n",
        "    return Mat(new_values)\n",
        "\n",
        "\n",
        "  def __mul__(self, other):\n",
        "    temp_mat = None\n",
        "\n",
        "    if type(other) == int or type(other) == float:\n",
        "      temp_mat = self.simplemul(other)\n",
        "\n",
        "      if Mat._check_float(temp_mat):\n",
        "        temp_mat.makefloat()\n",
        "\n",
        "    else:\n",
        "      temp_mat = self.matmul(other)\n",
        "\n",
        "    return temp_mat\n",
        "\n",
        "\n",
        "  def simplemul(self, other):  # allows other to be Fraction\n",
        "    temp_mat = self.copy()\n",
        "    for row_num in range(temp_mat.m):\n",
        "      temp_mat.values[row_num] = list(map(\n",
        "        lambda x: x * other,\n",
        "        temp_mat.values[row_num]\n",
        "      ))\n",
        "    return temp_mat\n",
        "\n",
        "  \n",
        "  def dotmul(self, other):\n",
        "    if type(self) != type(other) or \\\n",
        "      self.m != other.m or self.n != other.n:\n",
        "      raise TypeError\n",
        "    temp_mat = self.copy()\n",
        "    \n",
        "    for row_num in range(temp_mat.m):\n",
        "      temp_mat.values[row_num] = list(map(\n",
        "        Mat._mul,\n",
        "        temp_mat.values[row_num], other.values[row_num]\n",
        "      ))\n",
        "    return temp_mat\n",
        "\n",
        "\n",
        "  def cofactors(self):\n",
        "    if self.m <= 2:\n",
        "      return self\n",
        "\n",
        "    temp_mat = Mat.zeros(self.m, self.m)\n",
        "    for row_num in range(self.m):\n",
        "      for col_num in range(self.m):\n",
        "        square = self.deepcopy()\n",
        "        square.delcol(col_num)\n",
        "        square.delrow(row_num)\n",
        "        temp_mat.values[row_num][col_num] = \\\n",
        "          square.det() * (-1)**(row_num + col_num)\n",
        "    return temp_mat\n",
        "\n",
        "\n",
        "  def inverse(self):\n",
        "    the_det = self.det()  # includes dimension validation\n",
        "    if self.det() == 0:\n",
        "      return\n",
        "    \n",
        "    the_adj = self.cofactors().transpose()\n",
        "\n",
        "    return the_adj * (1/the_det)\n",
        "\n",
        "\n",
        "  def fracinverse(self):  # returns Mat of Fraction\n",
        "    the_det = self.det()\n",
        "    if self.det() == 0:\n",
        "      return\n",
        "    \n",
        "    from fractions import Fraction\n",
        "    the_adj = self.cofactors().transpose()\n",
        "\n",
        "    return the_adj.simplemul(Fraction(1, the_det))\n",
        "\n",
        "\n",
        "  def det(self):\n",
        "    if self.m != self.n:\n",
        "      raise TypeError\n",
        "    if self.m == 1:\n",
        "      return self.values[0][0]\n",
        "    if self.m == 2:\n",
        "      return self.values[0][0] * self.values[1][1] \\\n",
        "        - self.values[0][1] * self.values[1][0]\n",
        "    \n",
        "    dets = []\n",
        "    for col_num in range(self.m):\n",
        "      new_square = self.deepcopy()\n",
        "      new_square.delrow(0)\n",
        "      new_square.delcol(col_num)\n",
        "      dets.append(new_square.det())\n",
        "    \n",
        "    return sum((-1)**i * dets[i] * self.values[0][i]\n",
        "      for i in range(self.m)\n",
        "    )\n",
        "\n",
        "\n",
        "  def copy(self):\n",
        "    new_values = self.values[:]\n",
        "    return Mat(new_values)\n",
        "\n",
        "\n",
        "  def deepcopy(self):\n",
        "    import copy\n",
        "    new_values = copy.deepcopy(self.values)\n",
        "    return Mat(new_values)\n",
        "\n",
        "\n",
        "  def get(self, key1, key2):\n",
        "    if key2 == \"all\":\n",
        "      return self.values[key1]\n",
        "    return self.values[key1][key2]\n",
        "\n",
        "\n",
        "  def alter(self, key1, key2, val):\n",
        "    self.values[key1][key2] = val\n",
        "    if Mat._check_float(self):\n",
        "      self.makefloat()\n",
        "    return\n",
        "\n",
        "\n",
        "  def delcol(self, col_num):\n",
        "    for row_num in range(self.m):\n",
        "      del self.values[row_num][col_num]\n",
        "    self.n -= 1\n",
        "    return\n",
        "  \n",
        "\n",
        "  def delrow(self, row_num):\n",
        "    del self.values[row_num]\n",
        "    self.m -= 1\n",
        "    return\n",
        "\n",
        "\n",
        "  def insert(self, vals:list, pos:int = 0, orientation:str = \"r\"):\n",
        "    \"\"\"\n",
        "    pos - index of matrix at which to insert new values\n",
        "    orientation - 'r' for row or 'c' for column\n",
        "    \"\"\"\n",
        "    if orientation == \"r\":\n",
        "      if len(vals) != self.n or pos < 0 or pos > self.m:\n",
        "        raise TypeError\n",
        "      self.values.insert(pos, vals)\n",
        "      self.m += 1\n",
        "    \n",
        "    elif orientation == \"c\":\n",
        "      if len(vals) != self.m or pos < 0 or pos > self.n:\n",
        "        raise TypeError\n",
        "      for row_num in range(self.n):\n",
        "        self.values[row_num].insert(pos, vals[row_num])\n",
        "      self.n += 1\n",
        "    \n",
        "    else:\n",
        "      raise TypeError\n",
        "\n",
        "    if Mat._check_float(self):\n",
        "      self.makefloat()\n",
        "    \n",
        "    return\n",
        "  \n",
        "\n",
        "  def transpose(self):\n",
        "    new_values = list(map(list, zip(*self.values)))\n",
        "    return Mat(new_values)\n"
      ],
      "execution_count": 0,
      "outputs": []
    },
    {
      "metadata": {
        "id": "SJv4IgQTu2M4",
        "colab_type": "text"
      },
      "cell_type": "markdown",
      "source": [
        "# Linear Regression"
      ]
    },
    {
      "metadata": {
        "id": "Up-Un7Cy0BLE",
        "colab_type": "text"
      },
      "cell_type": "markdown",
      "source": [
        "## Data"
      ]
    },
    {
      "metadata": {
        "id": "6JBelTa6u6-1",
        "colab_type": "code",
        "colab": {
          "resources": {
            "http://localhost:8080/nbextensions/google.colab/files.js": {
              "data": "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",
              "ok": true,
              "headers": [
                [
                  "content-type",
                  "application/javascript"
                ]
              ],
              "status": 200,
              "status_text": ""
            }
          },
          "base_uri": "https://localhost:8080/",
          "height": 73
        },
        "outputId": "e4e592c0-3fd0-41b7-a4f5-f25f6259d2ef"
      },
      "cell_type": "code",
      "source": [
        "from google.colab import files\n",
        "\n",
        "data = files.upload()"
      ],
      "execution_count": 34,
      "outputs": [
        {
          "output_type": "display_data",
          "data": {
            "text/html": [
              "\n",
              "     <input type=\"file\" id=\"files-d02f04f3-1e72-478b-9f3f-2a3e5ea5dd90\" name=\"files[]\" multiple disabled />\n",
              "     <output id=\"result-d02f04f3-1e72-478b-9f3f-2a3e5ea5dd90\">\n",
              "      Upload widget is only available when the cell has been executed in the\n",
              "      current browser session. Please rerun this cell to enable.\n",
              "      </output>\n",
              "      <script src=\"/nbextensions/google.colab/files.js\"></script> "
            ],
            "text/plain": [
              "<IPython.core.display.HTML object>"
            ]
          },
          "metadata": {
            "tags": []
          }
        },
        {
          "output_type": "stream",
          "text": [
            "Saving ex1data1.txt to ex1data1 (1).txt\n"
          ],
          "name": "stdout"
        }
      ]
    },
    {
      "metadata": {
        "id": "wm7XovtbwJ20",
        "colab_type": "code",
        "colab": {}
      },
      "cell_type": "code",
      "source": [
        "data1 = data[\"ex1data1.txt\"].split()\n",
        "for row_num in range(len(data1)):\n",
        "  data1[row_num] = list(map(float, data1[row_num].split(b\",\")))"
      ],
      "execution_count": 0,
      "outputs": []
    },
    {
      "metadata": {
        "id": "_8ewVMgKw6RR",
        "colab_type": "code",
        "colab": {}
      },
      "cell_type": "code",
      "source": [
        "datamat = Mat(data1)"
      ],
      "execution_count": 0,
      "outputs": []
    },
    {
      "metadata": {
        "id": "AHSkJAf7w9hA",
        "colab_type": "text"
      },
      "cell_type": "markdown",
      "source": [
        "A short snippet of the data is shown below."
      ]
    },
    {
      "metadata": {
        "id": "EBR9m0B-y4hb",
        "colab_type": "code",
        "colab": {
          "base_uri": "https://localhost:8080/",
          "height": 197
        },
        "outputId": "cc22ca5c-cfce-4699-c66d-15b70af58761"
      },
      "cell_type": "code",
      "source": [
        "for i in range(10):\n",
        "  print(datamat.get(i, \"all\"))"
      ],
      "execution_count": 256,
      "outputs": [
        {
          "output_type": "stream",
          "text": [
            "[6.1101, 17.592]\n",
            "[5.5277, 9.1302]\n",
            "[8.5186, 13.662]\n",
            "[7.0032, 11.854]\n",
            "[5.8598, 6.8233]\n",
            "[8.3829, 11.886]\n",
            "[7.4764, 4.3483]\n",
            "[8.5781, 12.0]\n",
            "[6.4862, 6.5987]\n",
            "[5.0546, 3.8166]\n"
          ],
          "name": "stdout"
        }
      ]
    },
    {
      "metadata": {
        "id": "SJwy3EwAznqL",
        "colab_type": "code",
        "colab": {}
      },
      "cell_type": "code",
      "source": [
        "import matplotlib.pyplot as plt\n",
        "%matplotlib inline"
      ],
      "execution_count": 0,
      "outputs": []
    },
    {
      "metadata": {
        "id": "fXO3dzGG0mIP",
        "colab_type": "code",
        "colab": {
          "base_uri": "https://localhost:8080/",
          "height": 284
        },
        "outputId": "a2515884-5d07-41af-9830-1cc9a46541e5"
      },
      "cell_type": "code",
      "source": [
        "data_t = datamat.transpose()\n",
        "x_plot = data_t.get(0, \"all\")\n",
        "y_plot = data_t.get(1, \"all\")\n",
        "plt.plot(x_plot, y_plot, \"o\")"
      ],
      "execution_count": 259,
      "outputs": [
        {
          "output_type": "execute_result",
          "data": {
            "text/plain": [
              "[<matplotlib.lines.Line2D at 0x7fa87dfea908>]"
            ]
          },
          "metadata": {
            "tags": []
          },
          "execution_count": 259
        },
        {
          "output_type": "display_data",
          "data": {
            "image/png": "[encoded data removed]",
            "text/plain": [
              "<matplotlib.figure.Figure at 0x7fa87e193668>"
            ]
          },
          "metadata": {
            "tags": []
          }
        }
      ]
    },
    {
      "metadata": {
        "id": "Vug2E4Ll4R5v",
        "colab_type": "text"
      },
      "cell_type": "markdown",
      "source": [
        "## Gradient descent"
      ]
    },
    {
      "metadata": {
        "id": "g6VySwcHDYDz",
        "colab_type": "text"
      },
      "cell_type": "markdown",
      "source": [
        "**Using the cost function J shown below.**"
      ]
    },
    {
      "metadata": {
        "id": "pQlUajloCYuZ",
        "colab_type": "text"
      },
      "cell_type": "markdown",
      "source": [
        "![alt text](https://i.stack.imgur.com/tPhVh.png)"
      ]
    },
    {
      "metadata": {
        "id": "FLvssQk2CvgR",
        "colab_type": "text"
      },
      "cell_type": "markdown",
      "source": [
        "Hypothesis function h is used in \"predictions\" in the code below. It is simply X\\*theta."
      ]
    },
    {
      "metadata": {
        "id": "unCaJ9Bj2DQG",
        "colab_type": "code",
        "colab": {}
      },
      "cell_type": "code",
      "source": [
        "def cost(X, y, theta):\n",
        "  predictions = X*theta\n",
        "  sqr_errors = (predictions - y).power(2)\n",
        "  J_mat = (sqr_errors.transpose() * Mat.ones(y.m, 1)) * (1/(2*y.m))\n",
        "  \n",
        "  return J_mat.get(0, 0)"
      ],
      "execution_count": 0,
      "outputs": []
    },
    {
      "metadata": {
        "id": "8Qy8tT4AD4JV",
        "colab_type": "code",
        "colab": {}
      },
      "cell_type": "code",
      "source": [
        "def graddesc(X, y, theta, alpha, num_iters):\n",
        "  J_history = Mat.zeros(1, num_iters)\n",
        "\n",
        "  for itr in range(num_iters):\n",
        "    x = X.deepcopy()\n",
        "    x.delcol(0)\n",
        "    h = x*theta.get(1, 0) + theta.get(0, 0)\n",
        "    \n",
        "    temp_theta = ((h-y).transpose() * Mat.ones(y.m, 1)).get(0, 0)\n",
        "    theta_zero = theta.get(0, 0) - alpha * (1/y.m) * temp_theta\n",
        "    \n",
        "    temp_theta = (((h-y).dotmul(x)).transpose() * Mat.ones(y.m, 1)).get(0, 0)\n",
        "    theta_one = theta.get(1, 0) - alpha * (1/y.m) * temp_theta\n",
        "    \n",
        "    theta = Mat([\n",
        "      [theta_zero],\n",
        "      [theta_one]\n",
        "    ])\n",
        "    \n",
        "    J_history.values[0][itr] = cost(X, y, theta)\n",
        "  \n",
        "  return theta, J_history"
      ],
      "execution_count": 0,
      "outputs": []
    },
    {
      "metadata": {
        "id": "KBJM0AMA-cD3",
        "colab_type": "code",
        "colab": {}
      },
      "cell_type": "code",
      "source": [
        "the_X = Mat([x_plot])\n",
        "the_X.insert([1]*the_X.n)  # bias\n",
        "the_X = the_X.transpose()\n",
        "\n",
        "the_y = Mat([y_plot]).transpose()\n",
        "\n",
        "the_theta = Mat.zeros(2, 1)"
      ],
      "execution_count": 0,
      "outputs": []
    },
    {
      "metadata": {
        "id": "5MnwR_7WNkv9",
        "colab_type": "text"
      },
      "cell_type": "markdown",
      "source": [
        "### Before training"
      ]
    },
    {
      "metadata": {
        "id": "4ftUu2kl--a0",
        "colab_type": "code",
        "colab": {
          "base_uri": "https://localhost:8080/",
          "height": 71
        },
        "outputId": "bb1e8793-33b1-4109-c367-0ccd91c0d077"
      },
      "cell_type": "code",
      "source": [
        "the_theta"
      ],
      "execution_count": 263,
      "outputs": [
        {
          "output_type": "execute_result",
          "data": {
            "text/plain": [
              "\n",
              "[0]\n",
              "[0]"
            ]
          },
          "metadata": {
            "tags": []
          },
          "execution_count": 263
        }
      ]
    },
    {
      "metadata": {
        "id": "d7Dosv4-AKGF",
        "colab_type": "code",
        "colab": {}
      },
      "cell_type": "code",
      "source": [
        "iterations = 5000\n",
        "the_alpha = 0.01"
      ],
      "execution_count": 0,
      "outputs": []
    },
    {
      "metadata": {
        "id": "rCge_Nt6AcB_",
        "colab_type": "code",
        "colab": {
          "base_uri": "https://localhost:8080/",
          "height": 35
        },
        "outputId": "bd6dbe2c-f8d3-46b0-ddaf-709a3b318d1e"
      },
      "cell_type": "code",
      "source": [
        "cost(the_X, the_y, the_theta)"
      ],
      "execution_count": 265,
      "outputs": [
        {
          "output_type": "execute_result",
          "data": {
            "text/plain": [
              "32.072733877455654"
            ]
          },
          "metadata": {
            "tags": []
          },
          "execution_count": 265
        }
      ]
    },
    {
      "metadata": {
        "id": "rSJ26It-U9c9",
        "colab_type": "code",
        "colab": {
          "base_uri": "https://localhost:8080/",
          "height": 305
        },
        "outputId": "ab0fd0c2-881b-4c5e-9df8-3b015170ab23"
      },
      "cell_type": "code",
      "source": [
        "pred_mat = (the_X * the_theta).transpose()\n",
        "pred = pred_mat.get(0, \"all\")\n",
        "plt.plot(x_plot, y_plot, \"o\")\n",
        "plt.plot(x_plot, pred, \"-\")\n",
        "plt.xlabel(\"x\", fontsize=18)\n",
        "plt.ylabel(\"y\", fontsize=18)"
      ],
      "execution_count": 275,
      "outputs": [
        {
          "output_type": "execute_result",
          "data": {
            "text/plain": [
              "Text(0,0.5,'y')"
            ]
          },
          "metadata": {
            "tags": []
          },
          "execution_count": 275
        },
        {
          "output_type": "display_data",
          "data": {
            "image/png": "[encoded data removed]",
            "text/plain": [
              "<matplotlib.figure.Figure at 0x7fa87df929b0>"
            ]
          },
          "metadata": {
            "tags": []
          }
        }
      ]
    },
    {
      "metadata": {
        "id": "uWqUQiUyNyEV",
        "colab_type": "text"
      },
      "cell_type": "markdown",
      "source": [
        "### After training"
      ]
    },
    {
      "metadata": {
        "id": "F929N__oAgNk",
        "colab_type": "code",
        "colab": {}
      },
      "cell_type": "code",
      "source": [
        "the_theta, J_hist = graddesc(the_X, the_y, the_theta, the_alpha, iterations)"
      ],
      "execution_count": 0,
      "outputs": []
    },
    {
      "metadata": {
        "id": "Zd9UUMosM3CD",
        "colab_type": "code",
        "colab": {
          "base_uri": "https://localhost:8080/",
          "height": 71
        },
        "outputId": "8f432830-268d-46af-8161-6e9e657f6f51"
      },
      "cell_type": "code",
      "source": [
        "the_theta"
      ],
      "execution_count": 269,
      "outputs": [
        {
          "output_type": "execute_result",
          "data": {
            "text/plain": [
              "\n",
              "[-3.895300510657168]\n",
              "[1.1929853860482198]"
            ]
          },
          "metadata": {
            "tags": []
          },
          "execution_count": 269
        }
      ]
    },
    {
      "metadata": {
        "id": "ySeuGTtBLPna",
        "colab_type": "code",
        "colab": {
          "base_uri": "https://localhost:8080/",
          "height": 73
        },
        "outputId": "eae185bf-d27c-4240-96ed-c93d57aa3829"
      },
      "cell_type": "code",
      "source": [
        "J_hist"
      ],
      "execution_count": 270,
      "outputs": [
        {
          "output_type": "execute_result",
          "data": {
            "text/plain": [
              "\n",
              "[6.737190464870008, 5.931593568604957, 5.901154707081387, 5.89522858644422, 5.890094943117333, 5.885004158443646, 5.879932480491416, 5.874879094762575, 5.8698439118063845, 5.86482686531293, 5.859827889932179, 5.854846920572289, 5.849883892376585, 5.844938740722035, 5.840011401218365, 5.835101809707228, 5.830209902261389, 5.825335615183866, 5.820478885007097, 5.8156396484921515, 5.81081784262787, 5.806013404630041, 5.801226271940627, 5.7964563822269, 5.791703673380652, 5.786968083517397, 5.782249550975539, 5.777548014315597, 5.7728634123193805, 5.768195683989212, 5.76354476854712, 5.758910605434048, 5.754293134309077, 5.7496922950486296, 5.745108027745686, 5.740540272709014, 5.735988970462384, 5.7314540617437935, 5.7269354875047025, 5.722433188909259, 5.717947107333528, 5.713477184364749, 5.709023361800547, 5.704585581648198, 5.700163786123851, 5.695757917651815, 5.69136791886375, 5.6869937325979825, 5.682635301898705, 5.678292570015293, 5.673965480401505, 5.6696539767147955, 5.665358002815552, 5.661077502766383, 5.656812420831358, 5.6525627014753335, 5.648328289363183, 5.6441091293590935, 5.639905166525856, 5.635716346124134, 5.6315426136117726, 5.627383914643053, 5.623240195068026, 5.6191114009317795, 5.61499747847374, 5.6108983741269824, 5.606814034517529, 5.6027444064636525, 5.598689436975159, 5.594649073252758, 5.590623262687323, 5.586611952859217, 5.582615091537621, 5.578632626679852, 5.574664506430678, 5.570710679121647, 5.566771093270404, 5.562845697580047, 5.558934440938443, 5.555037272417541, 5.551154141272755, 5.547284996942256, 5.54342978904635, 5.539588467386808, 5.535760981946203, 5.531947282887274, 5.528147320552271, 5.524361045462307, 5.520588408316715, 5.516829359992401, 5.513083851543223, 5.509351834199334, 5.5056332593665385, 5.501928078625699, 5.498236243732062, 5.494557706614665, 5.490892419375678, 5.487240334289807, 5.483601403803651, 5.479975580535111, 5.47636281727274, 5.472763066975152, 5.469176282770399, 5.465602417955358, 5.462041425995138, 5.4584932605224585, 5.454957875337047, 5.451435224405054, 5.447925261858425, 5.444427941994334, 5.440943219274566, 5.437471048324931, 5.434011383934687, 5.430564181055921, 5.4271293948029875, 5.423706980451917, 5.420296893439837, 5.416899089364382, 5.413513523983123, 5.410140153212986, 5.4067789331296945, 5.403429819967165, 5.4000927701169745, 5.3967677401277685, 5.393454686704698, 5.390153566708864, 5.386864337156748, 5.383586955219662, 5.380321378223177, 5.377067563646583, 5.373825469122314, 5.370595052435428, 5.367376271523024, 5.36416908447371, 5.360973449527065, 5.357789325073083, 5.354616669651633, 5.351455441951913, 5.348305600811944, 5.345167105217981, 5.3420399143040305, 5.338923987351284, 5.335819283787603, 5.332725763186986, 5.329643385269053, 5.326572109898499, 5.323511897084589, 5.320462706980629, 5.317424499883462, 5.314397236232924, 5.311380876611357, 5.30837538174307, 5.305380712493861, 5.302396829870465, 5.2994236950200815, 5.296461269229851, 5.293509513926359, 5.290568390675126, 5.287637861180119, 5.28471788728323, 5.281808430963812, 5.278909454338152, 5.276020919659001, 5.273142789315071, 5.270275025830545, 5.267417591864591, 5.264570450210886, 5.261733563797108, 5.2589068956844836, 5.256090409067274, 5.253284067272323, 5.250487833758564, 5.247701672116554, 5.244925546067996, 5.242159419465253, 5.2394032562909025, 5.236657020657249, 5.233920676805869, 5.231194189107128, 5.228477522059737, 5.225770640290267, 5.223073508552727, 5.220386091728055, 5.217708354823696, 5.215040262973137, 5.212381781435449, 5.209732875594843, 5.207093510960208, 5.204463653164676, 5.201843267965148, 5.199232321241894, 5.196630778998063, 5.194038607359261, 5.19145577257311, 5.188882241008802, 5.1863179791566765, 5.183762953627759, 5.181217131153349, 5.178680478584576, 5.176152962891968, 5.173634551165022, 5.1711252106117795, 5.168624908558405, 5.166133612448731, 5.163651289843876, 5.161177908421788, 5.158713435976852, 5.156257840419432, 5.153811089775505, 5.151373152186197, 5.148943995907394, 5.146523589309323, 5.144111900876141, 5.141708899205514, 5.139314553008235, 5.136928831107778, 5.134551702439931, 5.1321831360523635, 5.129823101104237, 5.127471566865795, 5.125128502717983, 5.1227938781520095, 5.120467662768993, 5.118149826279543, 5.115840338503369, 5.113539169368884, 5.111246288912826, 5.108961667279849, 5.106685274722152, 5.104417081599076, 5.102157058376735, 5.099905175627619, 5.097661404030209, 5.09542571436861, 5.0931980775321515, 5.090978464515023, 5.088766846415888, 5.086563194437519, 5.0843674798863985, 5.082179674172385, 5.079999748808298, 5.077827675409569, 5.075663425693872, 5.073506971480756, 5.071358284691266, 5.069217337347599, 5.067084101572703, 5.06495854958997, 5.062840653722809, 5.0607303863943445, 5.058627720127012, 5.056532627542232, 5.054445081360034, 5.052365054398718, 5.050292519574479, 5.048227449901074, 5.046169818489458, 5.044119598547441, 5.042076763379342, 5.040041286385624, 5.038013141062577, 5.035992301001939, 5.033978739890577, 5.031972431510143, 5.029973349736707, 5.027981468540458, 5.025996761985322, 5.0240192042286695, 5.022048769520928, 5.020085432205297, 5.018129166717369, 5.016179947584836, 5.014237749427131, 5.012302546955105, 5.010374314970706, 5.00845302836664, 5.006538662126046, 5.004631191322177, 5.002730591118059, 5.0008368367662, 4.998949903608226, 4.997069767074595, 4.995196402684253, 4.993329786044339, 4.991469892849847, 4.989616698883302, 4.987770180014482, 4.985930312200063, 4.984097071483333, 4.982270433993872, 4.9804503759472345, 4.978636873644651, 4.976829903472697, 4.97502944190303, 4.973235465492033, 4.97144795088054, 4.96966687479352, 4.967892214039784, 4.966123945511667, 4.964362046184745, 4.962606493117519, 4.960857263451132, 4.959114334409054, 4.957377683296803, 4.955647287501641, 4.953923124492269, 4.9522051718185605, 4.950493407111239, 4.948787808081608, 4.947088352521254, 4.945395018301758, 4.943707783374399, 4.942026625769874, 4.94035152359803, 4.938682455047537, 4.937019398385643, 4.93536233195787, 4.933711234187741, 4.9320660835764984, 4.930426858702816, 4.928793538222534, 4.927166100868364, 4.925544525449623, 4.923928790851962, 4.922318876037082, 4.92071476004245, 4.9191164219810695, 4.917523841041141, 4.91593699648585, 4.914355867653075, 4.912780433955112, 4.91121067487841, 4.909646569983313, 4.908088098903787, 4.906535241347149, 4.904987977093813, 4.903446285997033, 4.901910147982609, 4.900379543048668, 4.898854451265367, 4.897334852774656, 4.8958207277900145, 4.894312056596191, 4.892808819548946, 4.891310997074791, 4.889818569670748, 4.888331517904089, 4.88684982241208, 4.885373463901724, 4.883902423149521, 4.88243668100122, 4.880976218371549, 4.879521016243988, 4.878071055670512, 4.876626317771341, 4.87518678373471, 4.87375243481661, 4.872323252340536, 4.870899217697262, 4.869480312344593, 4.868066517807121, 4.866657815675987, 4.865254187608632, 4.863855615328572, 4.862462080625158, 4.861073565353325, 4.859690051433372, 4.858311520850716, 4.856937955655665, 4.855569337963179, 4.85420564995264, 4.852846873867617, 4.851492992015638, 4.850143986767961, 4.8487998405593355, 4.8474605358877865, 4.84612605531437, 4.844796381462971, 4.843471497020046, 4.842151384734427, 4.8408360274170805, 4.839525407940881, 4.838219509240405, 4.83691831431168, 4.835621806212, 4.834329968059677, 4.833042783033825, 4.831760234374152, 4.830482305380745, 4.829208979413816, 4.827940239893543, 4.826676070299798, 4.825416454171979, 4.824161375108761, 4.822910816767899, 4.821664762866013, 4.820423197178368, 4.819186103538688, 4.817953465838903, 4.816725268028978, 4.815501494116685, 4.814282128167403, 4.813067154303901, 4.8118565567061395, 4.810650319611067, 4.809448427312395, 4.808250864160423, 4.807057614561819, 4.805868662979406, 4.8046839939319765, 4.80350359199409, 4.802327441795864, 4.80115552802278, 4.799987835415476, 4.798824348769554, 4.79766505293539, 4.796509932817917, 4.795358973376449, 4.794212159624466, 4.793069476629436, 4.79193090951261, 4.790796443448837, 4.789666063666357, 4.788539755446616, 4.787417504124084, 4.786299295086056, 4.785185113772449, 4.784074945675636, 4.78296877634024, 4.781866591362952, 4.780768376392355, 4.779674117128694, 4.778583799323757, 4.7774974087806354, 4.776414931353553, 4.775336352947691, 4.774261659519007, 4.773190837074033, 4.772123871669706, 4.771060749413198, 4.770001456461704, 4.768945979022285, 4.767894303351698, 4.766846415756183, 4.765802302591317, 4.764761950261812, 4.763725345221363, 4.762692473972447, 4.761663323066166, 4.7606378791020525, 4.7596161287279255, 4.758598058639682, 4.757583655581142, 4.756572906343875, 4.755565797767039, 4.754562316737174, 4.753562450188065, 4.7525661851005685, 4.751573508502424, 4.750584407468102, 4.749598869118619, 4.7486168806214, 4.747638429190075, 4.746663502084347, 4.745692086609786, 4.744724170117707, 4.7437597400049745, 4.74279878371385, 4.741841288731832, 4.7408872425914845, 4.739936632870271, 4.738989447190422, 4.738045673218729, 4.737105298666416, 4.736168311288971, 4.7352346988859875, 4.734304449301006, 4.73337755042134, 4.732453990177953, 4.731533756545258, 4.730616837541011, 4.729703221226098, 4.72879289570443, 4.72788584912275, 4.726982069670518, 4.726081545579716, 4.725184265124724, 4.724290216622141, 4.723399388430679, 4.7225117689509455, 4.721627346625359, 4.72074610993795, 4.719868047414232, 4.718993147621053, 4.7181213991664395, 4.71725279069945, 4.716387310910037, 4.7155249485288735, 4.714665692327246, 4.713809531116865, 4.712956453749759, 4.712106449118097, 4.711259506154068, 4.710415613829714, 4.709574761156817, 4.708736937186723, 4.707902131010218, 4.70707033175738, 4.706241528597454, 4.705415710738676, 4.704592867428175, 4.703772987951789, 4.702956061633963, 4.702142077837588, 4.701331025963876, 4.700522895452206, 4.699717675780004, 4.698915356462592, 4.6981159270530615, 4.6973193771421275, 4.696525696358009, 4.6957348743662655, 4.694946900869704, 4.694161765608201, 4.6933794583586, 4.692599968934568, 4.691823287186456, 4.69104940300118, 4.690278306302077, 4.68950998704879, 4.68874443523711, 4.68798164089888, 4.687221594101834, 4.6864642849494915, 4.685709703581009, 4.6849578401710685, 4.684208684929743, 4.683462228102363, 4.682718459969403, 4.6819773708463295, 4.681238951083514, 4.680503191066068, 4.6797700812137455, 4.6790396119808015, 4.678311773855884, 4.677586557361885, 4.67686395305585, 4.676143951528824, 4.675426543405746, 4.674711719345328, 4.673999470039922, 4.673289786215413, 4.672582658631085, 4.671878078079504, 4.671176035386411, 4.670476521410587, 4.669779527043732, 4.669085043210367, 4.668393060867687, 4.667703571005475, 4.667016564645956, 4.666332032843699, 4.665649966685487, 4.664970357290217, 4.664293195808769, 4.663618473423901, 4.662946181350124, 4.6622763108336, 4.661608853152019, 4.660943799614486, 4.660281141561419, 4.659620870364415, 4.6589629774261585, 4.658307454180304, 4.657654292091348, 4.657003482654544, 4.656355017395771, 4.655708887871438, 4.655065085668368, 4.654423602403678, 4.653784429724685, 4.653147559308802, 4.652512982863399, 4.651880692125732, 4.651250678862817, 4.650622934871315, 4.649997451977443, 4.64937422203686, 4.648753236934552, 4.648134488584752, 4.6475179689308, 4.646903669945063, 4.646291583628818, 4.6456817020121655, 4.645074017153896, 4.644468521141422, 4.643865206090639, 4.643264064145854, 4.642665087479663, 4.6420682682928565, 4.6414735988143185, 4.640881071300923, 4.640290678037439, 4.639702411336421, 4.6391162635381065, 4.638532227010339, 4.637950294148439, 4.637370457375127, 4.636792709140406, 4.636217041921486, 4.635643448222669, 4.635071920575257, 4.634502451537444, 4.633935033694242, 4.633369659657367, 4.632806322065147, 4.632245013582419, 4.631685726900461, 4.631128454736849, 4.630573189835416, 4.630019924966111, 4.629468652924938, 4.628919366533841, 4.628372058640632, 4.627826722118865, 4.6272833498677794, 4.626741934812183, 4.626202469902376, 4.625664948114038, 4.625129362448163, 4.6245957059309495, 4.6240639716137135, 4.623534152572802, 4.623006241909501, 4.622480232749946, 4.621956118245026, 4.621433891570306, 4.620913545925932, 4.620395074536541, 4.619878470651173, 4.619363727543186, 4.618850838510171, 4.6183397968738555, 4.617830595980022, 4.617323229198419, 4.6168176899226845, 4.616313971570249, 4.615812067582252, 4.615311971423452, 4.614813676582156, 4.6143171765701245, 4.613822464922478, 4.61332953519764, 4.612838380977224, 4.612348995865971, 4.611861373491644, 4.611375507504966, 4.6108913915795355, 4.610409019411731, 4.609928384720636, 4.609449481247961, 4.608972302757962, 4.608496843037342, 4.608023095895196, 4.60755105516292, 4.607080714694121, 4.606612068364546, 4.606145110072005, 4.605679833736285, 4.6052162332990765, 4.604754302723889, 4.604294035995975, 4.603835427122255, 4.603378470131232, 4.602923159072921, 4.602469488018764, 4.602017451061565, 4.601567042315396, 4.601118255915542, 4.600671086018401, 4.60022552680142, 4.599781572463033, 4.599339217222544, 4.598898455320108, 4.598459281016607, 4.598021688593604, 4.597585672353254, 4.597151226618243, 4.596718345731695, 4.596287024057118, 4.595857255978323, 4.5954290358993495, 4.5950023582443835, 4.594577217457711, 4.594153608003615, 4.59373152436633, 4.593310961049949, 4.592891912578359, 4.592474373495181, 4.592058338363686, 4.591643801766726, 4.591230758306667, 4.59081920260531, 4.5904091293038425, 4.590000533062744, 4.589593408561724, 4.589187750499663, 4.588783553594526, 4.5883808125833205, 4.587979522221998, 4.587579677285392, 4.58718127256718, 4.586784302879761, 4.586388763054257, 4.585994647940376, 4.585601952406394, 4.585210671339057, 4.584820799643549, 4.584432332243385, 4.584045264080383, 4.583659590114559, 4.583275305324111, 4.582892404705296, 4.582510883272416, 4.582130736057724, 4.581751958111355, 4.581374544501293, 4.580998490313271, 4.580623790650736, 4.580250440634761, 4.579878435403997, 4.579507770114605, 4.5791384399401975, 4.5787704400717635, 4.578403765717619, 4.578038412103337, 4.57767437447169, 4.577311648082582, 4.576950228212994, 4.57659011015692, 4.57623128922531, 4.5758737607459805, 4.5755175200636025, 4.575162562539602, 4.574808883552121, 4.574456478495941, 4.57410534278244, 4.573755471839512, 4.573406861111527, 4.573059506059269, 4.572713402159868, 4.572368544906732, 4.572024929809523, 4.57168255239407, 4.571341408202299, 4.571001492792231, 4.570662801737848, 4.570325330629093, 4.569989075071802, 4.569654030687622, 4.569320193113978, 4.568987558004013, 4.568656121026516, 4.568325877865882, 4.567996824222056, 4.567668955810469, 4.567342268361973, 4.567016757622818, 4.566692419354561, 4.566369249334025, 4.5660472433532595, 4.565726397219449, 4.565406706754897, 4.565088167796949, 4.564770776197948, 4.564454527825171, 4.564139418560776, 4.563825444301775, 4.563512600959931, 4.5632008844617475, 4.562890290748408, 4.5625808157756955, 4.562272455513971, 4.561965205948124, 4.561659063077476, 4.561354022915784, 4.56105008149115, 4.560747234845988, 4.560445479036963, 4.560144810134944, 4.559845224224966, 4.559546717406146, 4.559249285791658, 4.55895292550868, 4.558657632698342, 4.558363403515663, 4.558070234129523, 4.557778120722592, 4.557487059491293, 4.557197046645755, 4.556908078409752, 4.556620151020653, 4.5563332607293985, 4.556047403800418, 4.555762576511593, 4.555478775154231, 4.555195996032978, 4.554914235465802, 4.554633489783928, 4.554353755331797, 4.554075028467021, 4.553797305560327, 4.553520582995513, 4.553244857169412, 4.552970124491822, 4.552696381385484, 4.552423624286018, 4.5521518496418825, 4.551881053914332, 4.551611233577363, 4.551342385117678, 4.551074505034633, 4.550807589840179, 4.550541636058861, 4.550276640227711, 4.550012598896251, 4.549749508626435, 4.549487365992581, 4.549226167581371, 4.548965909991763, 4.548706589834976, 4.548448203734425, 4.548190748325696, 4.547934220256495, 4.547678616186597, 4.547423932787805, 4.5471701667439195, 4.546917314750678, 4.546665373515725, 4.546414339758558, 4.5461642102105015, 4.545914981614642, 4.545666650725799, 4.545419214310491, 4.545172669146868, 4.544927012024697, 4.544682239745305, 4.544438349121537, 4.5441953369777215, 4.543953200149626, 4.543711935484406, 4.543471539840591, 4.543232010088011, 4.542993343107777, 4.542755535792233, 4.542518585044915, 4.542282487780517, 4.542047240924835, 4.541812841414761, 4.541579286198187, 4.541346572234026, 4.541114696492134, 4.540883655953284, 4.540653447609125, 4.540424068462129, 4.540195515525589, 4.539967785823539, 4.539740876390731, 4.539514784272603, 4.539289506525236, 4.53906504021532, 4.538841382420098, 4.538618530227344, 4.538396480735327, 4.538175231052766, 4.537954778298799, 4.537735119602922, 4.5375162521049965, 4.537298172955166, 4.537080879313846, 4.536864368351685, 4.536648637249518, 4.536433683198327, 4.536219503399223, 4.536006095063397, 4.535793455412083, 4.53558158167652, 4.5353704710979255, 4.535160120927452, 4.534950528426154, 4.534741690864949, 4.534533605524582, 4.5343262696956135, 4.534119680678329, 4.533913835782764, 4.533708732328637, 4.5335043676453095, 4.533300739071781, 4.533097843956626, 4.53289567965796, 4.532694243543437, 4.532493532990172, 4.532293545384733, 4.532094278123113, 4.5318957286106665, 4.53169789426211, 4.531500772501459, 4.531304360762016, 4.53110865648632, 4.530913657126131, 4.530719360142385, 4.530525763005162, 4.530332863193652, 4.5301406581961325, 4.5299491455099234, 4.529758322641358, 4.529568187105754, 4.529378736427377, 4.529189968139409, 4.529001879783918, 4.5288144689118335, 4.528627733082891, 4.5284416698656305, 4.52825627683734, 4.52807155158404, 4.527887491700443, 4.527704094789921, 4.527521358464492, 4.527339280344756, 4.527157858059902, 4.526977089247652, 4.526796971554226, 4.5266175026343385, 4.526438680151145, 4.526260501776217, 4.526082965189514, 4.525906068079347, 4.525729808142365, 4.525554183083503, 4.525379190615968, 4.525204828461203, 4.525031094348856, 4.524857986016757, 4.524685501210882, 4.524513637685319, 4.524342393202258, 4.524171765531945, 4.524001752452654, 4.523832351750659, 4.523663561220222, 4.523495378663532, 4.523327801890704, 4.523160828719743, 4.5229944569765115, 4.522828684494694, 4.522663509115791, 4.52249892868907, 4.522334941071547, 4.52217154412796, 4.522008735730736, 4.521846513759958, 4.521684876103358, 4.521523820656273, 4.521363345321613, 4.5212034480098495, 4.521044126638972, 4.520885379134481, 4.520727203429336, 4.520569597463953, 4.520412559186167, 4.52025608655119, 4.520100177521615, 4.51994483006737, 4.519790042165689, 4.519635811801097, 4.519482136965379, 4.519329015657546, 4.519176445883831, 4.519024425657636, 4.518872952999521, 4.518722025937186, 4.518571642505413, 4.518421800746086, 4.518272498708122, 4.518123734447491, 4.517975506027139, 4.517827811517001, 4.517680648993969, 4.517534016541851, 4.517387912251359, 4.517242334220096, 4.517097280552498, 4.516952749359838, 4.516808738760195, 4.516665246878423, 4.516522271846126, 4.5163798118016425, 4.516237864890021, 4.5160964292629835, 4.515955503078912, 4.515815084502823, 4.5156751717063415, 4.515535762867678, 4.5153968561716065, 4.515258449809438, 4.515120541978997, 4.514983130884609, 4.514846214737052, 4.514709791753551, 4.514573860157763, 4.514438418179744, 4.514303464055911, 4.514168996029046, 4.514035012348255, 4.5139015112689425, 4.513768491052823, 4.513635949967841, 4.5135038862881975, 4.513372298294308, 4.513241184272776, 4.513110542516388, 4.5129803713240655, 4.51285066900086, 4.512721433857945, 4.512592664212555, 4.512464358387999, 4.512336514713613, 4.5122091315247665, 4.512082207162818, 4.511955739975094, 4.511829728314879, 4.5117041705413925, 4.511579065019769, 4.511454410121006, 4.511330204221995, 4.511206445705467, 4.511083132959975, 4.51096026437987, 4.510837838365307, 4.5107158533221785, 4.51059430766214, 4.510473199802552, 4.510352528166486, 4.51023229118269, 4.510112487285568, 4.509993114915171, 4.509874172517161, 4.509755658542807, 4.50963757144895, 4.50951990969799, 4.509402671757868, 4.509285856102038, 4.509169461209462, 4.509053485564568, 4.508937927657258, 4.508822785982858, 4.508708059042124, 4.508593745341216, 4.508479843391655, 4.508366351710347, 4.508253268819524, 4.508140593246749, 4.508028323524885, 4.507916458192075, 4.507804995791743, 4.507693934872547, 4.507583273988367, 4.507473011698308, 4.5073631465666555, 4.507253677162868, 4.507144602061552, 4.507035919842458, 4.506927629090447, 4.50681972839547, 4.5067122163525735, 4.506605091561853, 4.506498352628445, 4.506391998162514, 4.506286026779231, 4.506180437098757, 4.50607522774622, 4.505970397351695, 4.505865944550205, 4.505761867981676, 4.505658166290941, 4.505554838127714, 4.505451882146564, 4.50534929700692, 4.5052470813730245, 4.505145233913951, 4.50504375330354, 4.504942638220435, 4.504841887348026, 4.504741499374441, 4.504641472992546, 4.504541806899903, 4.5044424997987775, 4.504343550396099, 4.5042449574034595, 4.504146719537084, 4.504048835517842, 4.503951304071184, 4.5038541239271686, 4.5037572938204224, 4.503660812490135, 4.503564678680031, 4.503468891138366, 4.503373448617895, 4.503278349875874, 4.503183593674036, 4.503089178778568, 4.502995103960105, 4.502901367993707, 4.5028079696588525, 4.502714907739411, 4.502622181023631, 4.502529788304132, 4.502437728377874, 4.50234600004616, 4.502254602114602, 4.502163533393121, 4.50207279269592, 4.501982378841468, 4.501892290652506, 4.501802526956001, 4.501713086583155, 4.5016239683693655, 4.5015351711542415, 4.501446693781558, 4.501358535099273, 4.501270693959467, 4.5011831692183755, 4.501095959736354, 4.501009064377853, 4.50092248201142, 4.500836211509673, 4.5007502517493, 4.500664601611016, 4.500579259979591, 4.500494225743792, 4.5004094977964115, 4.500325075034205, 4.500240956357912, 4.500157140672241, 4.500073626885831, 4.499990413911263, 4.499907500665022, 4.499824886067514, 4.499742569043017, 4.499660548519692, 4.499578823429556, 4.499497392708477, 4.499416255296161, 4.499335410136121, 4.499254856175682, 4.499174592365959, 4.499094617661846, 4.4990149310220025, 4.498935531408836, 4.498856417788498, 4.498777589130854, 4.498699044409483, 4.4986207826016615, 4.498542802688363, 4.498465103654209, 4.498387684487495, 4.49831054418015, 4.498233681727737, 4.498157096129443, 4.498080786388059, 4.498004751509955, 4.497928990505097, 4.497853502387002, 4.497778286172755, 4.49770334088297, 4.497628665541798, 4.497554259176892, 4.497480120819419, 4.497406249504033, 4.497332644268858, 4.497259304155493, 4.497186228208988, 4.49711341547782, 4.4970408650139095, 4.496968575872587, 4.496896547112577, 4.496824777795999, 4.496753266988366, 4.496682013758532, 4.4966110171787195, 4.496540276324487, 4.496469790274731, 4.496399558111664, 4.49632957892079, 4.4962598517909225, 4.496190375814155, 4.496121150085844, 4.496052173704616, 4.49598344577233, 4.495914965394089, 4.49584673167822, 4.495778743736256, 4.495711000682939, 4.495643501636183, 4.495576245717105, 4.495509232049966, 4.495442459762186, 4.495375927984337, 4.495309635850109, 4.495243582496324, 4.4951777670629065, 4.495112188692884, 4.4950468465323645, 4.494981739730536, 4.49491686743965, 4.49485222881501, 4.494787823014972, 4.494723649200905, 4.494659706537212, 4.494595994191309, 4.494532511333591, 4.494469257137471, 4.494406230779307, 4.4943434314384545, 4.494280858297201, 4.4942185105407875, 4.494156387357403, 4.494094487938134, 4.494032811477004, 4.493971357170925, 4.4939101242197115, 4.493849111826053, 4.493788319195519, 4.493727745536529, 4.493667390060359, 4.49360725198114, 4.49354733051581, 4.493487624884137, 4.493428134308705, 4.493368858014889, 4.493309795230864, 4.493250945187582, 4.493192307118759, 4.493133880260873, 4.493075663853159, 4.493017657137589, 4.492959859358859, 4.492902269764393, 4.492844887604319, 4.492787712131477, 4.492730742601389, 4.492673978272259, 4.492617418404968, 4.492561062263052, 4.492504909112713, 4.492448958222776, 4.492393208864719, 4.492337660312629, 4.492282311843223, 4.492227162735803, 4.492172212272291, 4.492117459737172, 4.492062904417529, 4.492008545602998, 4.491954382585781, 4.491900414660625, 4.49184664112482, 4.491793061278188, 4.491739674423073, 4.491686479864331, 4.491633476909317, 4.491580664867889, 4.491528043052386, 4.491475610777625, 4.491423367360893, 4.491371312121932, 4.491319444382941, 4.491267763468547, 4.49121626870583, 4.49116495942427, 4.491113834955785, 4.4910628946346876, 4.491012137797683, 4.490961563783879, 4.490911171934752, 4.490860961594161, 4.4908109321083165, 4.490761082825792, 4.490711413097507, 4.490661922276715, 4.490612609719008, 4.490563474782286, 4.490514516826772, 4.490465735214987, 4.4904171293117505, 4.490368698484176, 4.490320442101644, 4.49027235953582, 4.490224450160623, 4.490176713352229, 4.490129148489065, 4.4900817549517935, 4.490034532123305, 4.4899874793887244, 4.4899405961353756, 4.4898938817528, 4.489847335632735, 4.489800957169108, 4.489754745758032, 4.489708700797792, 4.48966282168884, 4.489617107833788, 4.489571558637408, 4.489526173506605, 4.489480951850421, 4.489435893080036, 4.489390996608741, 4.489346261851942, 4.48930168822716, 4.489257275153996, 4.48921302205416, 4.489168928351441, 4.48912499347169, 4.489081216842844, 4.4890375978948835, 4.48899413605986, 4.488950830771858, 4.488907681467004, 4.488864687583457, 4.488821848561393, 4.488779163843021, 4.488736632872537, 4.488694255096154, 4.488652029962077, 4.488609956920499, 4.488568035423583, 4.488526264925481, 4.488484644882306, 4.488443174752119, 4.488401853994953, 4.488360682072769, 4.488319658449471, 4.4882787825909, 4.48823805396481, 4.488197472040883, 4.4881570362906995, 4.48811674618776, 4.488076601207441, 4.4880366008270265, 4.487996744525673, 4.487957031784419, 4.487917462086165, 4.487878034915682, 4.487838749759594, 4.4877996061063685, 4.487760603446324, 4.487721741271609, 4.487683019076203, 4.4876444363559145, 4.487605992608355, 4.487567687332956, 4.48752952003095, 4.487491490205359, 4.487453597361009, 4.487415841004499, 4.4873782206442, 4.487340735790274, 4.487303385954625, 4.48726617065093, 4.487229089394612, 4.487192141702837, 4.487155327094519, 4.487118645090291, 4.487082095212528, 4.487045676985318, 4.487009389934455, 4.48697323358746, 4.486937207473537, 4.486901311123599, 4.486865544070243, 4.486829905847748, 4.486794395992075, 4.486759014040852, 4.486723759533375, 4.486688632010597, 4.486653631015132, 4.486618756091231, 4.486584006784801, 4.486549382643358, 4.486514883216075, 4.4864805080537415, 4.486446256708758, 4.4864121287351395, 4.486378123688517, 4.48634424112611, 4.4863104806067335, 4.486276841690803, 4.486243323940305, 4.486209926918812, 4.486176650191464, 4.486143493324961, 4.486110455887581, 4.4860775374491455, 4.486044737581024, 4.4860120558561345, 4.485979491848933, 4.485947045135408, 4.4859147152930685, 4.485882501900957, 4.485850404539627, 4.485818422791136, 4.48578655623906, 4.485754804468469, 4.485723167065915, 4.4856916436194645, 4.485660233718653, 4.485628936954484, 4.485597752919455, 4.4855666812075246, 4.485535721414106, 4.4855048731360725, 4.485474135971758, 4.4854435095209375, 4.485412993384827, 4.4853825871660735, 4.485352290468771, 4.485322102898417, 4.485292024061953, 4.485262053567722, 4.485232191025479, 4.485202436046396, 4.485172788243023, 4.485143247229333, 4.485113812620665, 4.485084484033761, 4.485055261086734, 4.4850261433990735, 4.484997130591646, 4.484968222286679, 4.4849394181077535, 4.484910717679821, 4.484882120629174, 4.484853626583452, 4.484825235171639, 4.484796946024052, 4.484768758772341, 4.484740673049485, 4.4847126884897826, 4.4846848047288494, 4.484657021403618, 4.484629338152314, 4.484601754614484, 4.484574270430968, 4.484546885243897, 4.484519598696685, 4.484492410434042, 4.484465320101953, 4.484438327347678, 4.484411431819746, 4.484384633167955, 4.484357931043357, 4.484331325098273, 4.484304814986267, 4.484278400362154, 4.484252080881994, 4.484225856203081, 4.484199725983951, 4.484173689884361, 4.484147747565297, 4.48412189868897, 4.484096142918808, 4.484070479919438, 4.484044909356718, 4.484019430897684, 4.48399404421059, 4.483968748964878, 4.483943544831182, 4.483918431481318, 4.483893408588292, 4.483868475826282, 4.483843632870647, 4.483818879397901, 4.483794215085735, 4.483769639613, 4.483745152659697, 4.483720753906989, 4.483696443037178, 4.48367221973372, 4.4836480836812, 4.4836240345653495, 4.483600072073022, 4.483576195892218, 4.4835524057120315, 4.483528701222707, 4.4835050821155855, 4.48348154808312, 4.483458098818879, 4.48343473401754, 4.483411453374867, 4.483388256587725, 4.483365143354072, 4.483342113372952, 4.4833191663444945, 4.483296301969911, 4.48327351995148, 4.483250819992569, 4.4832282017976, 4.483205665072065, 4.483183209522512, 4.483160834856553, 4.48313854078285, 4.483116327011115, 4.483094193252103, 4.483072139217617, 4.483050164620485, 4.483028269174582, 4.483006452594819, 4.482984714597115, 4.4829630548984225, 4.482941473216713, 4.482919969270978, 4.482898542781213, 4.482877193468432, 4.482855921054642, 4.4828347252628555, 4.48281360581709, 4.4827925624423495, 4.482771594864628, 4.482750702810914, 4.482729886009173, 4.482709144188349, 4.482688477078367, 4.48266788441012, 4.482647365915479, 4.482626921327271, 4.482606550379284, 4.482586252806285, 4.482566028343968, 4.4825458767290005, 4.4825257976989805, 4.482505790992475, 4.482485856348967, 4.482465993508896, 4.482446202213629, 4.482426482205464, 4.482406833227635, 4.482387255024284, 4.482367747340496, 4.4823483099222585, 4.482328942516481, 4.482309644870979, 4.482290416734481, 4.48227125785662, 4.482252167987938, 4.482233146879857, 4.482214194284708, 4.482195309955717, 4.482176493646989, 4.482157745113514, 4.482139064111182, 4.482120450396739, 4.48210190372782, 4.48208342386293, 4.482065010561453, 4.482046663583622, 4.482028382690547, 4.482010167644193, 4.481992018207385, 4.481973934143801, 4.481955915217972, 4.481937961195274, 4.48192007184193, 4.4819022469249985, 4.481884486212393, 4.48186678947285, 4.481849156475943, 4.4818315869920715, 4.4818140807924625, 4.4817966376491825, 4.481779257335091, 4.481761939623896, 4.4817446842900885, 4.481727491109001, 4.481710359856762, 4.481693290310301, 4.481676282247363, 4.481659335446491, 4.481642449687013, 4.481625624749063, 4.481608860413572, 4.481592156462251, 4.481575512677597, 4.4815589288428965, 4.481542404742209, 4.481525940160381, 4.481509534883028, 4.48149318869653, 4.481476901388058, 4.481460672745532, 4.481444502557641, 4.481428390613829, 4.4814123367043095, 4.481396340620048, 4.481380402152758, 4.481364521094907, 4.48134869723971, 4.481332930381125, 4.48131722031386, 4.481301566833343, 4.481285969735765, 4.481270428818029, 4.481254943877784, 4.481239514713399, 4.4812241411239775, 4.481208822909333, 4.4811935598700146, 4.481178351807286, 4.4811631985231175, 4.4811480998202065, 4.481133055501952, 4.4811180653724625, 4.481103129236555, 4.481088246899748, 4.481073418168259, 4.481058642849004, 4.481043920749598, 4.48102925167834, 4.481014635444235, 4.481000071856963, 4.480985560726886, 4.480971101865068, 4.480956695083232, 4.4809423401937964, 4.480928037009838, 4.480913785345122, 4.480899585014088, 4.480885435831825, 4.480871337614096, 4.480857290177339, 4.480843293338634, 4.480829346915737, 4.4808154507270475, 4.480801604591629, 4.480787808329192, 4.480774061760099, 4.480760364705348, 4.4807467169866, 4.48073311842615, 4.4807195688469275, 4.480706068072507, 4.4806926159271, 4.480679212235542, 4.48066585682331, 4.480652549516496, 4.480639290141838, 4.480626078526683, 4.480612914499002, 4.480599797887389, 4.480586728521053, 4.480573706229822, 4.480560730844132, 4.480547802195033, 4.48053492011418, 4.480522084433844, 4.4805092949868826, 4.4804965516067705, 4.48048385412758, 4.480471202383977, 4.480458596211224, 4.48044603544518, 4.480433519922288, 4.4804210494795855, 4.480408623954702, 4.480396243185844, 4.480383907011795, 4.480371615271933, 4.48035936780621, 4.480347164455153, 4.480335005059863, 4.480322889462012, 4.480310817503845, 4.480298789028174, 4.480286803878377, 4.480274861898401, 4.480262962932748, 4.480251106826482, 4.4802392934252255, 4.4802275225751576, 4.480215794123014, 4.480204107916079, 4.480192463802186, 4.48018086162972, 4.480169301247607, 4.480157782505326, 4.48014630525289, 4.480134869340856, 4.480123474620314, 4.480112120942897, 4.4801008081607705, 4.480089536126634, 4.480078304693717, 4.48006711371577, 4.480055963047084, 4.480044852542457, 4.48003378205723, 4.480022751447251, 4.480011760568892, 4.480000809279043, 4.47998989743511, 4.479979024895008, 4.47996819151717, 4.479957397160526, 4.479946641684536, 4.479935924949151, 4.479925246814834, 4.479914607142532, 4.479904005793717, 4.47989344263035, 4.479882917514888, 4.479872430310284, 4.479861980879987, 4.479851569087934, 4.4798411947985555, 4.479830857876767, 4.479820558187977, 4.479810295598068, 4.479800069973418, 4.47978988118088, 4.479779729087782, 4.4797696135619365, 4.479759534471635, 4.47974949168563, 4.479739485073165, 4.479729514503939, 4.479719579848128, 4.479709680976374, 4.479699817759784, 4.47968999006993, 4.479680197778852, 4.479670440759039, 4.479660718883447, 4.479651032025491, 4.479641380059038, 4.479631762858413, 4.479622180298388, 4.479612632254192, 4.479603118601498, 4.4795936392164375, 4.4795841939755645, 4.479574782755914, 4.47956540543493, 4.479556061890515, 4.4795467520010055, 4.479537475645183, 4.47952823270226, 4.479519023051882, 4.479509846574136, 4.479500703149532, 4.4794915926590155, 4.4794825149839586, 4.4794734700061625, 4.479464457607855, 4.4794554776716895, 4.479446530080737, 4.479437614718483, 4.479428731468857, 4.47941988021618, 4.479411060845205, 4.479402273241093, 4.479393517289429, 4.479384792876194, 4.47937609988779, 4.479367438211034, 4.479358807733134, 4.4793502083417165, 4.479341639924816, 4.479333102370853, 4.479324595568669, 4.479316119407495, 4.479307673776966, 4.479299258567109, 4.479290873668354, 4.479282518971519, 4.479274194367822, 4.479265899748862, 4.479257635006644, 4.479249400033553, 4.479241194722356, 4.47923301896622, 4.479224872658684, 4.479216755693676, 4.479208667965507, 4.479200609368867, 4.4791925797988315, 4.479184579150844, 4.479176607320729, 4.479168664204683, 4.479160749699283, 4.479152863701476, 4.479145006108577, 4.479137176818275, 4.479129375728625, 4.479121602738048, 4.479113857745337, 4.479106140649639, 4.479098451350479, 4.479090789747728, 4.479083155741628, 4.479075549232779, 4.479067970122138, 4.47906041831101, 4.4790528937010725, 4.479045396194348, 4.479037925693209, 4.47903048210038, 4.479023065318947, 4.479015675252333, 4.479008311804312, 4.479000974879005, 4.478993664380881, 4.478986380214749, 4.478979122285763, 4.478971890499414, 4.478964684761547, 4.47895750497833, 4.4789503510562785, 4.478943222902241, 4.478936120423403, 4.478929043527284, 4.478921992121738, 4.478914966114943, 4.4789079654154245, 4.478900989932021, 4.478894039573904, 4.478887114250575, 4.478880213871863, 4.478873338347916, 4.478866487589213, 4.478859661506542, 4.478852860011028, 4.478846083014111, 4.478839330427545, 4.478832602163405, 4.478825898134087, 4.478819218252289, 4.478812562431045, 4.478805930583683, 4.478799322623859, 4.478792738465516, 4.4787861780229345, 4.478779641210689, 4.478773127943664, 4.478766638137052, 4.478760171706346, 4.478753728567355, 4.4787473086361755, 4.4787409118292185, 4.478734538063189, 4.478728187255098, 4.478721859322253, 4.478715554182254, 4.478709271753009, 4.478703011952708, 4.478696774699846, 4.478690559913212, 4.478684367511883, 4.4786781974152206, 4.478672049542893, 4.478665923814847, 4.478659820151317, 4.478653738472834, 4.478647678700205, 4.478641640754527, 4.478635624557182, 4.478629630029837, 4.478623657094422, 4.4786177056731855, 4.478611775688621, 4.478605867063518, 4.478599979720943, 4.478594113584237, 4.478588268577015, 4.4785824446231715, 4.478576641646877, 4.4785708595725655, 4.478565098324952, 4.478559357829018, 4.478553638010024, 4.478547938793486, 4.478542260105196, 4.478536601871213, 4.478530964017864, 4.478525346471738, 4.478519749159687, 4.47851417200883, 4.478508614946551, 4.478503077900488, 4.478497560798545, 4.478492063568891, 4.478486586139932, 4.478481128440361, 4.478475690399108, 4.478470271945363, 4.478464873008581, 4.478459493518453, 4.478454133404943, 4.478448792598249, 4.478443471028831, 4.4784381686274015, 4.478432885324914, 4.478427621052581, 4.47842237574185, 4.478417149324429, 4.478411941732259, 4.478406752897533, 4.478401582752691, 4.478396431230416, 4.478391298263626, 4.478386183785486, 4.478381087729402, 4.478376010029014, 4.478370950618214, 4.478365909431117, 4.478360886402083, 4.478355881465718, 4.478350894556839, 4.478345925610516, 4.478340974562054, 4.478336041346982, 4.4783311259010645, 4.478326228160305, 4.478321348060922, 4.478316485539375, 4.478311640532348, 4.4783068129767605, 4.4783020028097456, 4.478297209968679, 4.478292434391146, 4.478287676014964, 4.478282934778185, 4.4782782106190675, 4.478273503476095, 4.478268813287983, 4.478264139993655, 4.478259483532265, 4.478254843843178, 4.478250220865984, 4.478245614540492, 4.478241024806713, 4.478236451604892, 4.478231894875484, 4.478227354559145, 4.478222830596769, 4.478218322929441, 4.478213831498472, 4.478209356245379, 4.478204897111889, 4.4782004540399365, 4.478196026971677, 4.478191615849462, 4.478187220615852, 4.4781828412136235, 4.478178477585751, 4.478174129675407, 4.478169797425988, 4.478165480781083, 4.478161179684482, 4.478156894080184, 4.478152623912385, 4.478148369125484, 4.47814412966408, 4.478139905472971, 4.478135696497154, 4.4781315026818245, 4.478127323972378, 4.478123160314401, 4.47811901165368, 4.478114877936194, 4.47811075910812, 4.4781066551158295, 4.478102565905884, 4.478098491425029, 4.4780944316202245, 4.478090386438603, 4.47808635582749, 4.478082339734407, 4.478078338107059, 4.47807435089334, 4.478070378041337, 4.4780664194993145, 4.478062475215738, 4.4780585451392385, 4.478054629218648, 4.478050727402982, 4.478046839641425, 4.478042965883365, 4.478039106078353, 4.47803526017614, 4.478031428126646, 4.47802760987997, 4.4780238053864, 4.478020014596394, 4.478016237460597, 4.4780124739298275, 4.478008723955073, 4.478004987487512, 4.478001264478493, 4.477997554879541, 4.477993858642346, 4.477990175718788, 4.477986506060904, 4.477982849620917, 4.477979206351216, 4.477975576204362, 4.4779719591330895, 4.477968355090298, 4.477964764029061, 4.477961185902618, 4.477957620664377, 4.477954068267923, 4.477950528666996, 4.477947001815508, 4.477943487667532, 4.477939986177318, 4.477936497299262, 4.477933020987952, 4.477929557198111, 4.477926105884642, 4.477922667002603, 4.4779192405072195, 4.477915826353879, 4.477912424498116, 4.477909034895643, 4.477905657502326, 4.4779022922741785, 4.477898939167393, 4.477895598138305, 4.477892269143408, 4.477888952139362, 4.477885647082971, 4.477882353931204, 4.477879072641175, 4.477875803170164, 4.477872545475606, 4.477869299515071, 4.477866065246296, 4.477862842627174, 4.4778596316157415, 4.477856432170181, 4.477853244248843, 4.477850067810213, 4.477846902812932, 4.477843749215789, 4.47784060697772, 4.477837476057809, 4.477834356415298, 4.47783124800955, 4.477828150800106, 4.477825064746631, 4.477821989808942, 4.477818925947002, 4.477815873120914, 4.47781283129093, 4.477809800417443, 4.477806780460984, 4.477803771382238, 4.477800773142018, 4.477797785701287, 4.477794809021146, 4.477791843062833, 4.477788887787732, 4.47778594315736, 4.477783009133381, 4.477780085677583, 4.477777172751905, 4.477774270318414, 4.477771378339325, 4.477768496776975, 4.477765625593851, 4.47776276475256, 4.477759914215851, 4.477757073946617, 4.477754243907864, 4.477751424062749, 4.477748614374555, 4.4777458148066955, 4.477743025322717, 4.477740245886293, 4.477737476461248, 4.477734717011505, 4.477731967501147, 4.47772922789436, 4.477726498155486, 4.47772377824897, 4.477721068139399, 4.477718367791488, 4.477715677170077, 4.477712996240118, 4.4777103249667265, 4.477707663315103, 4.4777050112505945, 4.47770236873867, 4.47769973574492, 4.477697112235063, 4.477694498174935, 4.477691893530504, 4.47768929826785, 4.477686712353182, 4.477684135752829, 4.477681568433241, 4.477679010360994, 4.477676461502774, 4.477673921825392, 4.477671391295782, 4.477668869880995, 4.477666357548199, 4.477663854264679, 4.477661359997845, 4.477658874715213, 4.477656398384424, 4.4776539309732435, 4.4776514724495255, 4.477649022781272, 4.4776465819365825, 4.477644149883678, 4.477641726590884, 4.4776393120266516, 4.477636906159536, 4.47763450895822, 4.477632120391486, 4.4776297404282275, 4.477627369037464, 4.477625006188311, 4.4776226518500035, 4.477620305991884, 4.477617968583415, 4.477615639594154, 4.477613318993781, 4.4776110067520705, 4.477608702838925, 4.47760640722434, 4.47760411987843, 4.477601840771404, 4.477599569873593, 4.477597307155422, 4.4775950525874375, 4.477592806140269, 4.4775905677846755, 4.477588337491512, 4.477586115231731, 4.477583900976405, 4.4775816946967, 4.477579496363887, 4.477577305949339, 4.477575123424538, 4.477572948761072, 4.477570781930612, 4.477568622904951, 4.477566471655979, 4.477564328155678, 4.477562192376138, 4.477560064289562, 4.477557943868227, 4.4775558310845245, 4.47755372591095, 4.47755162832009, 4.477549538284627, 4.477547455777354, 4.477545380771151, 4.477543313239002, 4.4775412531539835, 4.477539200489269, 4.477537155218141, 4.477535117313959, 4.477533086750189, 4.4775310635003915, 4.477529047538227, 4.477527038837438, 4.477525037371877, 4.477523043115475, 4.477521056042273, 4.477519076126392, 4.477517103342055, 4.477515137663575, 4.477513179065353, 4.477511227521887, 4.477509283007771, 4.477507345497683, 4.4775054149663935, 4.4775034913887675, 4.477501574739753, 4.477499664994401, 4.477497762127842, 4.477495866115296, 4.47749397693208, 4.477492094553594, 4.477490218955323, 4.477488350112849, 4.477486488001839, 4.477484632598044, 4.477482783877309, 4.477480941815558, 4.47747910638881, 4.47747727757316, 4.477475455344799, 4.4774736396799995, 4.477471830555121, 4.4774700279466035, 4.47746823183098, 4.477466442184859, 4.4774646589849425, 4.477462882208006, 4.477461111830922, 4.477459347830633, 4.47745759018417, 4.4774558388686465, 4.4774540938612635, 4.477452355139294, 4.4774506226801005, 4.47744889646113, 4.4774471764598935, 4.477445462654009, 4.477443755021148, 4.477442053539082, 4.477440358185662, 4.477438668938805, 4.477436985776518, 4.477435308676882, 4.477433637618063, 4.477431972578302, 4.477430313535918, 4.477428660469313, 4.477427013356952, 4.477425372177398, 4.477423736909277, 4.477422107531298, 4.477420484022242, 4.477418866360977, 4.477417254526432, 4.47741564849762, 4.477414048253633, 4.47741245377363, 4.477410865036853, 4.477409282022618, 4.4774077047103065, 4.477406133079383, 4.477404567109382, 4.477403006779913, 4.477401452070665, 4.47739990296139, 4.477398359431917, 4.477396821462149, 4.477395289032055, 4.477393762121689, 4.477392240711161, 4.477390724780672, 4.477389214310472, 4.477387709280903, 4.477386209672363, 4.477384715465325, 4.477383226640336, 4.477381743178007, 4.477380265059025, 4.47737879226414, 4.477377324774178, 4.477375862570033, 4.477374405632663, 4.477372953943092, 4.477371507482427, 4.477370066231829, 4.47736863017253, 4.477367199285839, 4.477365773553116, 4.4773643529557985, 4.477362937475394, 4.477361527093469, 4.477360121791655, 4.47735872155166, 4.477357326355245, 4.4773559361842485, 4.477354551020566, 4.477353170846169, 4.477351795643076, 4.477350425393385, 4.477349060079256, 4.47734769968291, 4.477346344186631, 4.477344993572772, 4.477343647823747, 4.477342306922029, 4.477340970850166, 4.477339639590753, 4.477338313126463, 4.477336991440021, 4.477335674514218, 4.477334362331903, 4.4773330548759915, 4.4773317521294675, 4.477330454075352, 4.477329160696759, 4.477327871976839, 4.4773265878988155, 4.477325308445965, 4.4773240336016285, 4.47732276334921, 4.477321497672168, 4.47732023655402, 4.477318979978349, 4.477317727928787, 4.477316480389038, 4.477315237342858, 4.477313998774051, 4.477312764666505, 4.477311535004137, 4.477310309770945, 4.477309088950977, 4.477307872528324, 4.477306660487158, 4.477305452811698, 4.477304249486209, 4.477303050495036, 4.477301855822554, 4.477300665453212, 4.477299479371516, 4.47729829756202, 4.477297120009331, 4.477295946698118, 4.477294777613104, 4.477293612739066, 4.4772924520608415, 4.477291295563308, 4.4772901432314125, 4.477288995050153, 4.477287851004572, 4.477286711079781, 4.477285575260932, 4.477284443533238, 4.477283315881959, 4.477282192292419, 4.477281072749981, 4.477279957240068, 4.477278845748162, 4.4772777382597795, 4.477276634760515, 4.477275535235983, 4.477274439671883, 4.477273348053935, 4.477272260367933, 4.477271176599714, 4.4772700967351655, 4.477269020760229, 4.477267948660889, 4.477266880423188, 4.4772658160332215, 4.477264755477124, 4.477263698741087, 4.477262645811355, 4.4772615966742135, 4.477260551316005, 4.477259509723117, 4.47725847188198, 4.477257437779095, 4.477256407400984, 4.477255380734237, 4.477254357765482, 4.4772533384814075, 4.477252322868731, 4.477251310914233, 4.477250302604738, 4.4772492979271155, 4.477248296868282, 4.477247299415207, 4.4772463055549006, 4.47724531527442, 4.477244328560873, 4.477243345401409, 4.47724236578323, 4.477241389693582, 4.47724041711975, 4.477239448049075, 4.4772384824689375, 4.477237520366756, 4.477236561730019, 4.477235606546231, 4.477234654802967, 4.47723370648782, 4.4772327615884535, 4.477231820092559, 4.477230881987878, 4.477229947262197, 4.477229015903342, 4.477228087899189, 4.477227163237653, 4.477226241906693, 4.477225323894318, 4.477224409188567, 4.477223497777539, 4.477222589649354, 4.4772216847921955, 4.477220783194281, 4.477219884843874, 4.477218989729268, 4.477218097838818, 4.477217209160901, 4.477216323683953, 4.477215441396443, 4.477214562286879, 4.477213686343818, 4.477212813555854, 4.477211943911622, 4.477211077399799, 4.477210214009099, 4.4772093537282815, 4.477208496546148, 4.47720764245154, 4.477206791433326, 4.477205943480432, 4.477205098581811, 4.477204256726472, 4.477203417903443, 4.477202582101814, 4.477201749310686, 4.477200919519223, 4.477200092716627, 4.477199268892123, 4.477198448034991, 4.477197630134532, 4.477196815180107, 4.477196003161098, 4.477195194066941, 4.477194387887088, 4.477193584611054, 4.477192784228368, 4.477191986728618, 4.477191192101414, 4.477190400336418, 4.477189611423308, 4.47718882535182, 4.4771880421117105, 4.47718726169279, 4.477186484084894, 4.4771857092778955, 4.4771849372617085, 4.477184168026281, 4.477183401561592, 4.477182637857665, 4.477181876904556, 4.47718111869236, 4.477180363211192, 4.477179610451229, 4.477178860402662, 4.4771781130557295, 4.477177368400694, 4.477176626427868, 4.47717588712758, 4.477175150490211, 4.477174416506169, 4.477173685165893, 4.477172956459862, 4.477172230378591, 4.477171506912618, 4.477170786052533, 4.4771700677889426, 4.477169352112496, 4.4771686390138745, 4.477167928483791, 4.477167220513001, 4.477166515092278, 4.477165812212437, 4.477165111864333, 4.47716441403884, 4.477163718726876, 4.4771630259193795, 4.477162335607342, 4.4771616477817675, 4.477160962433699, 4.477160279554218, 4.47715959913443, 4.477158921165473, 4.477158245638516, 4.477157572544775, 4.477156901875475, 4.477156233621889, 4.477155567775313, 4.477154904327081, 4.477154243268549, 4.477153584591111, 4.47715292828619, 4.477152274345244, 4.477151622759756, 4.47715097352124, 4.477150326621239, 4.4771496820513415, 4.477149039803144, 4.47714839986829, 4.477147762238445, 4.477147126905302, 4.477146493860596, 4.4771458630960765, 4.477145234603538, 4.47714460837479, 4.477143984401685, 4.477143362676094, 4.477142743189921, 4.477142125935106, 4.4771415109036035, 4.4771408980874075, 4.477140287478542, 4.4771396790690545, 4.477139072851021, 4.477138468816552, 4.477137866957783, 4.477137267266868, 4.47713666973601, 4.477136074357427, 4.477135481123354, 4.4771348900260834, 4.477134301057904, 4.477133714211163, 4.477133129478205, 4.477132546851419, 4.477131966323226, 4.477131387886059, 4.477130811532391, 4.477130237254714, 4.477129665045551, 4.477129094897458, 4.477128526802999, 4.477127960754789, 4.477127396745445, 4.477126834767637, 4.477126274814039, 4.477125716877359, 4.477125160950335, 4.477124607025733, 4.477124055096331, 4.477123505154943, 4.477122957194421, 4.4771224112076125, 4.477121867187423, 4.477121325126763, 4.477120785018573, 4.477120246855821, 4.4771197106315, 4.477119176338626, 4.47711864397025, 4.477118113519429, 4.47711758497926, 4.47711705834287, 4.477116533603385, 4.477116010753985, 4.477115489787858, 4.477114970698223, 4.4771144534783165, 4.477113938121405, 4.477113424620782, 4.477112912969757, 4.477112403161674, 4.477111895189887, 4.477111389047785, 4.477110884728775, 4.477110382226299, 4.477109881533804, 4.477109382644771, 4.477108885552715, 4.477108390251153, 4.477107896733635, 4.477107404993743, 4.477106915025068, 4.477106426821231, 4.477105940375877, 4.477105455682671, 4.477104972735303, 4.477104491527483, 4.477104012052945, 4.477103534305449, 4.477103058278771, 4.477102583966707, 4.477102111363096, 4.477101640461775, 4.477101171256611, 4.477100703741498, 4.477100237910347, 4.477099773757095, 4.477099311275693, 4.477098850460122, 4.4770983913043825, 4.477097933802495, 4.477097477948506, 4.477097023736479, 4.477096571160493, 4.477096120214657, 4.477095670893109, 4.4770952231899885, 4.477094777099466, 4.477094332615739, 4.477093889733016, 4.477093448445529, 4.477093008747536, 4.477092570633306, 4.477092134097143, 4.477091699133357, 4.477091265736285, 4.477090833900286, 4.477090403619733, 4.477089974889024, 4.477089547702582, 4.477089122054841, 4.477088697940255, 4.477088275353309, 4.477087854288495, 4.477087434740331, 4.477087016703356, 4.477086600172126, 4.4770861851412205, 4.477085771605229, 4.477085359558768, 4.477084948996482, 4.477084539913013, 4.477084132303037, 4.477083726161252, 4.4770833214823655, 4.477082918261109, 4.47708251649223, 4.477082116170505, 4.477081717290712, 4.477081319847658, 4.4770809238361755, 4.477080529251105, 4.477080136087303, 4.4770797443396555, 4.477079354003059, 4.477078965072434, 4.477078577542714, 4.477078191408855, 4.477077806665826, 4.477077423308624, 4.4770770413322465, 4.477076660731729, 4.477076281502112, 4.477075903638457, 4.477075527135846, 4.477075151989375, 4.4770747781941616, 4.477074405745335, 4.47707403463805, 4.477073664867473, 4.477073296428783, 4.477072929317192, 4.477072563527913, 4.477072199056187, 4.477071835897269, 4.477071474046427, 4.477071113498953, 4.47707075425015, 4.477070396295334, 4.477070039629854, 4.477069684249064, 4.4770693301483355, 4.477068977323056, 4.477068625768634, 4.477068275480489, 4.4770679264540645, 4.477067578684812, 4.477067232168203, 4.4770668868997285, 4.47706654287489, 4.477066200089211, 4.477065858538223, 4.477065518217482, 4.477065179122559, 4.477064841249035, 4.477064504592511, 4.477064169148609, 4.47706383491295, 4.477063501881192, 4.4770631700489965, 4.477062839412039, 4.477062509966019, 4.477062181706643, 4.477061854629637, 4.477061528730746, 4.477061204005725, 4.477060880450343, 4.477060558060385, 4.4770602368316625, 4.477059916759987, 4.477059597841188, 4.477059280071121, 4.477058963445637, 4.477058647960624, 4.477058333611967, 4.477058020395578, 4.4770577083073775, 4.4770573973433, 4.477057087499295, 4.477056778771332, 4.4770564711553895, 4.4770561646474585, 4.477055859243554, 4.4770555549396995, 4.477055251731925, 4.477054949616291, 4.477054648588857, 4.477054348645711, 4.477054049782938, 4.477053751996656, 4.477053455282978, 4.47705315963805, 4.477052865058013, 4.47705257153904, 4.477052279077306, 4.4770519876689985, 4.477051697310332, 4.47705140799752, 4.477051119726793, 4.477050832494398, 4.477050546296605, 4.477050261129673, 4.4770499769899, 4.477049693873581, 4.477049411777032, 4.4770491306965745, 4.477048850628554, 4.477048571569325, 4.477048293515254, 4.477048016462709, 4.477047740408099, 4.477047465347816, 4.477047191278288, 4.477046918195939, 4.47704664609722, 4.477046374978586, 4.477046104836505, 4.477045835667454, 4.47704556746794, 4.47704530023447, 4.477045033963555, 4.477044768651727, 4.477044504295543, 4.477044240891551, 4.477043978436328, 4.477043716926454, 4.477043456358522, 4.4770431967291415, 4.477042938034929, 4.477042680272518, 4.477042423438556, 4.477042167529691, 4.4770419125425995, 4.477041658473954, 4.477041405320449, 4.477041153078787, 4.477040901745688, 4.4770406513178775, 4.477040401792088, 4.47704015316508, 4.477039905433609, 4.477039658594455, 4.477039412644402, 4.477039167580243, 4.477038923398796, 4.477038680096874, 4.477038437671309, 4.477038196118951, 4.4770379554366535, 4.477037715621273, 4.4770374766696985, 4.477037238578808, 4.477037001345511, 4.477036764966717, 4.477036529439342, 4.477036294760327, 4.477036060926604, 4.477035827935144, 4.477035595782901, 4.477035364466865, 4.477035133984007, 4.477034904331337, 4.477034675505865, 4.477034447504611, 4.477034220324599, 4.477033993962881, 4.477033768416503, 4.47703354368253, 4.477033319758036, 4.477033096640105, 4.4770328743258325, 4.47703265281232, 4.477032432096688, 4.477032212176063, 4.477031993047578, 4.477031774708383, 4.477031557155633, 4.47703134038649, 4.477031124398143, 4.477030909187775, 4.4770306947525755, 4.47703048108976, 4.47703026819655, 4.477030056070166, 4.47702984470785, 4.477029634106853, 4.4770294242644235, 4.477029215177835, 4.477029006844365, 4.477028799261301, 4.477028592425938, 4.477028386335584, 4.477028180987552, 4.477027976379178, 4.47702777250779, 4.477027569370735, 4.477027366965364, 4.477027165289049, 4.477026964339162, 4.477026764113083, 4.477026564608205, 4.477026365821934, 4.477026167751682, 4.477025970394861, 4.477025773748911, 4.477025577811271, 4.477025382579388, 4.477025188050715, 4.477024994222723, 4.477024801092891, 4.477024608658698, 4.477024416917645, 4.477024225867231, 4.477024035504971, 4.477023845828383, 4.477023656834998, 4.477023468522359, 4.477023280888013, 4.477023093929509, 4.477022907644426, 4.477022722030327, 4.477022537084799, 4.4770223528054345, 4.477022169189832, 4.477021986235605, 4.477021803940365, 4.477021622301747, 4.477021441317377, 4.4770212609849045, 4.477021081301978, 4.477020902266258, 4.477020723875417, 4.47702054612713, 4.47702036901908, 4.477020192548963, 4.477020016714478, 4.477019841513343, 4.4770196669432725, 4.477019493001991, 4.477019319687238, 4.4770191469967555, 4.47701897492829, 4.477018803479608, 4.477018632648478, 4.477018462432664, 4.477018292829962, 4.477018123838159, 4.4770179554550555, 4.477017787678455, 4.477017620506178, 4.477017453936046, 4.477017287965895, 4.4770171225935504, 4.477016957816871, 4.477016793633708, 4.4770166300419225, 4.477016467039385, 4.477016304623975, 4.477016142793574, 4.477015981546077, 4.477015820879385, 4.477015660791407, 4.4770155012800545, 4.477015342343254, 4.477015183978934, 4.47701502618503, 4.477014868959493, 4.4770147123002735, 4.47701455620533, 4.477014400672634, 4.477014245700157, 4.477014091285881, 4.477013937427797, 4.477013784123901, 4.4770136313722, 4.477013479170697, 4.477013327517416, 4.477013176410384, 4.477013025847624, 4.477012875827185, 4.477012726347116, 4.4770125774054605, 4.477012429000291, 4.47701228112966, 4.477012133791656, 4.477011986984355, 4.477011840705841, 4.477011694954217, 4.477011549727581, 4.477011405024045, 4.47701126084172, 4.477011117178731, 4.477010974033208, 4.47701083140329, 4.477010689287115, 4.477010547682834, 4.4770104065886045, 4.477010266002589, 4.477010125922952, 4.477009986347875, 4.477009847275544, 4.477009708704138, 4.477009570631862, 4.477009433056912, 4.477009295977501, 4.477009159391838, 4.477009023298153, 4.477008887694668, 4.47700875257962, 4.477008617951249, 4.477008483807799, 4.477008350147526, 4.477008216968693, 4.477008084269558, 4.477007952048406, 4.477007820303497, 4.47700768903313, 4.477007558235589, 4.477007427909176, 4.477007298052186, 4.477007168662944, 4.477007039739749, 4.477006911280924, 4.477006783284803, 4.4770066557497215, 4.477006528674007, 4.47700640205601, 4.477006275894093, 4.477006150186596, 4.477006024931894, 4.477005900128354, 4.477005775774343, 4.477005651868254, 4.477005528408464, 4.477005405393372, 4.477005282821369, 4.477005160690867, 4.4770050390002725, 4.477004917747995, 4.477004796932468, 4.477004676552106, 4.477004556605355, 4.477004437090636, 4.477004318006408, 4.4770041993511125, 4.477004081123205, 4.477003963321148, 4.477003845943411, 4.477003728988457, 4.477003612454769, 4.477003496340834, 4.47700338064513, 4.477003265366154, 4.477003150502408, 4.4770030360523965, 4.4770029220146235, 4.477002808387611, 4.477002695169873, 4.477002582359944, 4.477002469956347, 4.47700235795762, 4.477002246362306, 4.477002135168954, 4.477002024376113, 4.477001913982343, 4.477001803986201, 4.477001694386263, 4.477001585181097, 4.477001476369279, 4.477001367949397, 4.477001259920037, 4.47700115227979, 4.4770010450272615, 4.47700093816105, 4.477000831679758, 4.47700072558201, 4.4770006198664225, 4.477000514531612, 4.477000409576216, 4.477000304998859, 4.477000200798182, 4.477000096972834, 4.476999993521461, 4.47699989044271, 4.476999787735243, 4.476999685397723, 4.476999583428818, 4.476999481827195, 4.47699938059154, 4.47699927972053, 4.476999179212848, 4.47699907906719, 4.476998979282249, 4.476998879856732, 4.476998780789336, 4.476998682078777, 4.47699858372377, 4.476998485723028, 4.476998388075281, 4.476998290779257, 4.476998193833685, 4.476998097237308, 4.4769980009888615, 4.476997905087099, 4.4769978095307685, 4.4769977143186255, 4.476997619449436, 4.476997524921952, 4.476997430734959, 4.476997336887215, 4.4769972433775065, 4.476997150204616, 4.476997057367331, 4.47699696486444, 4.476996872694737, 4.476996780857025, 4.476996689350105, 4.476996598172793, 4.476996507323894, 4.476996416802222, 4.476996326606606, 4.476996236735872, 4.476996147188848, 4.476996057964366, 4.476995969061265, 4.4769958804783885, 4.476995792214583, 4.476995704268695, 4.476995616639588, 4.476995529326113, 4.476995442327137, 4.476995355641526, 4.476995269268152, 4.476995183205889, 4.476995097453619, 4.4769950120102235, 4.476994926874589, 4.476994842045606, 4.476994757522175, 4.476994673303193, 4.476994589387562, 4.476994505774187, 4.476994422461989, 4.476994339449872, 4.4769942567367655, 4.4769941743215815, 4.476994092203251, 4.476994010380708, 4.476993928852884, 4.47699384761872, 4.4769937666771575, 4.476993686027143, 4.476993605667626, 4.476993525597556, 4.476993445815893, 4.4769933663216, 4.476993287113642, 4.476993208190984, 4.476993129552603, 4.476993051197474, 4.476992973124573, 4.476992895332888, 4.476992817821403, 4.476992740589109, 4.476992663635006, 4.4769925869580804, 4.476992510557345, 4.4769924344318, 4.476992358580457, 4.476992283002323, 4.476992207696413, 4.47699213266176, 4.476992057897371, 4.47699198340228, 4.476991909175516, 4.476991835216115, 4.476991761523109, 4.476991688095543, 4.476991614932457, 4.476991542032901, 4.476991469395926, 4.476991397020584, 4.476991324905932, 4.476991253051034, 4.476991181454956, 4.47699111011676, 4.476991039035521, 4.476990968210313, 4.476990897640211, 4.476990827324302, 4.476990757261662, 4.476990687451387, 4.476990617892569, 4.476990548584287, 4.476990479525657, 4.476990410715771, 4.476990342153734, 4.476990273838653, 4.476990205769641, 4.476990137945806, 4.476990070366271, 4.4769900030301555, 4.476989935936579, 4.476989869084666, 4.476989802473552, 4.476989736102369, 4.476989669970253, 4.476989604076337, 4.476989538419767, 4.476989472999691, 4.476989407815252, 4.476989342865606, 4.476989278149903, 4.476989213667304, 4.476989149416967, 4.476989085398051, 4.476989021609735, 4.4769889580511775, 4.476988894721554, 4.476988831620041, 4.476988768745816, 4.476988706098059, 4.476988643675953, 4.476988581478696, 4.476988519505464, 4.476988457755459, 4.476988396227872, 4.476988334921904, 4.476988273836757, 4.476988212971631, 4.4769881523257435, 4.476988091898295, 4.476988031688504, 4.476987971695589, 4.4769879119187586, 4.476987852357246, 4.476987793010267, 4.476987733877055, 4.476987674956838, 4.476987616248848, 4.476987557752318, 4.47698749946649, 4.476987441390605, 4.476987383523904, 4.4769873258656405, 4.476987268415055, 4.476987211171404, 4.476987154133941, 4.476987097301924, 4.476987040674611, 4.476986984251269, 4.47698692803116, 4.476986872013552, 4.476986816197715, 4.476986760582923, 4.476986705168455, 4.4769866499535835, 4.476986594937596, 4.4769865401197695, 4.476986485499394, 4.476986431075764, 4.476986376848159, 4.476986322815882, 4.476986268978226, 4.476986215334488, 4.476986161883971, 4.476986108625979, 4.476986055559819, 4.476986002684805, 4.476985950000242, 4.476985897505443, 4.4769858451997315, 4.476985793082419, 4.476985741152828, 4.476985689410288, 4.4769856378541215, 4.476985586483656, 4.476985535298225, 4.47698548429716, 4.4769854334798, 4.476985382845476, 4.476985332393542, 4.476985282123324, 4.476985232034182, 4.476985182125459, 4.476985132396501, 4.476985082846666, 4.476985033475304, 4.4769849842817795, 4.476984935265442, 4.4769848864256625, 4.4769848377617985, 4.47698478927322, 4.476984740959297, 4.476984692819393, 4.47698464485289, 4.476984597059159, 4.476984549437578, 4.476984501987525, 4.476984454708389, 4.476984407599545, 4.476984360660385, 4.4769843138903, 4.476984267288674, 4.476984220854908, 4.476984174588395, 4.476984128488526, 4.4769840825547105, 4.476984036786344, 4.476983991182831, 4.476983945743581, 4.476983900468001, 4.4769838553555035, 4.47698381040549, 4.476983765617394, 4.476983720990617, 4.476983676524582, 4.476983632218714, 4.4769835880724305, 4.476983544085162, 4.476983500256333, 4.476983456585371, 4.476983413071712, 4.4769833697147865, 4.476983326514025, 4.476983283468874, 4.476983240578772, 4.476983197843154, 4.476983155261466, 4.476983112833159, 4.4769830705576705, 4.476983028434461, 4.476982986462972, 4.4769829446426685, 4.4769829029729955, 4.476982861453412, 4.476982820083383, 4.476982778862364, 4.4769827377898235, 4.476982696865224, 4.4769826560880315, 4.476982615457716, 4.476982574973749, 4.476982534635599, 4.476982494442751, 4.476982454394673, 4.476982414490844, 4.476982374730748, 4.476982335113864, 4.47698229563968, 4.4769822563076795, 4.476982217117348, 4.476982178068184, 4.476982139159665, 4.476982100391294, 4.476982061762567, 4.47698202327298, 4.476981984922026, 4.476981946709207, 4.476981908634036, 4.476981870696009, 4.476981832894631, 4.476981795229409, 4.476981757699855, 4.476981720305482, 4.476981683045803, 4.476981645920331, 4.476981608928582, 4.4769815720700725, 4.476981535344324, 4.476981498750866, 4.476981462289214, 4.476981425958889, 4.4769813897594295, 4.476981353690355, 4.4769813177512034, 4.4769812819415, 4.476981246260782, 4.476981210708579, 4.476981175284437, 4.47698113998789, 4.47698110481848, 4.476981069775751, 4.4769810348592385, 4.476981000068497, 4.476980965403067, 4.476980930862502, 4.476980896446349, 4.47698086215416, 4.476980827985493, 4.476980793939895, 4.4769807600169305, 4.476980726216151, 4.476980692537124, 4.476980658979406, 4.476980625542562, 4.476980592226151, 4.476980559029749, 4.476980525952918, 4.476980492995224, 4.476980460156242, 4.476980427435546, 4.476980394832713, 4.476980362347306, 4.47698032997891, 4.476980297727105, 4.47698026559147, 4.476980233571589, 4.476980201667037, 4.476980169877404, 4.4769801382022765, 4.476980106641237, 4.476980075193884, 4.476980043859799, 4.476980012638577, 4.4769799815298175, 4.476979950533106, 4.476979919648045, 4.476979888874226, 4.476979858211255, 4.476979827658728, 4.476979797216253, 4.476979766883429, 4.476979736659861, 4.476979706545158, 4.476979676538925, 4.4769796466407765, 4.476979616850315, 4.476979587167157, 4.476979557590918, 4.476979528121212, 4.476979498757653, 4.4769794694998595, 4.476979440347448, 4.476979411300043, 4.4769793823572686, 4.4769793535187405, 4.4769793247840886, 4.476979296152938, 4.476979267624915, 4.4769792391996495, 4.476979210876769, 4.476979182655906, 4.476979154536689, 4.476979126518762, 4.47697909860175, 4.476979070785295, 4.476979043069033, 4.4769790154526055, 4.476978987935645, 4.4769789605178065, 4.476978933198722, 4.476978905978037, 4.476978878855402, 4.4769788518304585, 4.4769788249028615, 4.476978798072252, 4.476978771338286, 4.476978744700615, 4.476978718158891, 4.47697869171277, 4.476978665361905, 4.476978639105956, 4.476978612944576, 4.476978586877432, 4.476978560904178, 4.47697853502448, 4.4769785092379975, 4.476978483544394, 4.476978457943342, 4.4769784324345, 4.47697840701754, 4.476978381692132, 4.476978356457944, 4.476978331314648, 4.476978306261917, 4.476978281299418, 4.476978256426845, 4.476978231643853, 4.476978206950132, 4.476978182345355, 4.4769781578291985, 4.476978133401355, 4.476978109061497, 4.476978084809306, 4.476978060644474, 4.476978036566681, 4.476978012575616, 4.476977988670964, 4.476977964852415, 4.476977941119657, 4.476977917472384, 4.4769778939102896, 4.476977870433064, 4.476977847040401, 4.476977823731999, 4.47697780050755, 4.476977777366757, 4.476977754309315, 4.476977731334922, 4.476977708443283, 4.4769776856340995, 4.4769776629070686, 4.476977640261903, 4.476977617698307, 4.476977595215977, 4.476977572814632, 4.476977550493972, 4.476977528253713, 4.476977506093563, 4.476977484013231, 4.47697746201243, 4.476977440090873, 4.476977418248278, 4.4769773964843615, 4.4769773747988335, 4.476977353191418, 4.476977331661829, 4.47697731020979, 4.476977288835019, 4.476977267537238, 4.4769772463161726, 4.4769772251715425, 4.476977204103074, 4.476977183110492, 4.476977162193528, 4.476977141351904, 4.476977120585348, 4.4769770998935945, 4.476977079276372, 4.476977058733409, 4.476977038264442, 4.476977017869202, 4.476976997547425, 4.476976977298848, 4.4769769571232, 4.476976937020227, 4.476976916989667, 4.4769768970312525, 4.476976877144727, 4.47697685732983, 4.4769768375863075, 4.4769768179139, 4.476976798312353, 4.4769767787814025, 4.476976759320807, 4.476976739930307, 4.476976720609653, 4.476976701358588, 4.476976682176862, 4.476976663064229, 4.476976644020442, 4.476976625045249, 4.476976606138398, 4.476976587299656, 4.47697656852876, 4.476976549825483, 4.476976531189575, 4.47697651262079, 4.476976494118887, 4.476976475683632, 4.476976457314773, 4.476976439012081, 4.4769764207753155, 4.476976402604238, 4.476976384498609, 4.476976366458196, 4.476976348482767, 4.476976330572082, 4.476976312725907, 4.476976294944017, 4.476976277226176, 4.476976259572149, 4.476976241981715, 4.476976224454641, 4.4769762069907, 4.476976189589661, 4.4769761722513, 4.476976154975388, 4.476976137761707, 4.476976120610026, 4.476976103520125, 4.47697608649178, 4.476976069524773, 4.476976052618877, 4.476976035773877, 4.476976018989553, 4.476976002265681, 4.4769759856020475, 4.476975968998441, 4.476975952454634, 4.476975935970417, 4.476975919545579, 4.4769759031799, 4.476975886873169, 4.476975870625175, 4.4769758544357074, 4.4769758383045515, 4.476975822231495, 4.476975806216337, 4.476975790258866, 4.476975774358868, 4.476975758516146, 4.476975742730485, 4.476975727001685, 4.476975711329539, 4.4769756957138425, 4.476975680154395, 4.476975664650988, 4.476975649203427, 4.476975633811504, 4.476975618475025, 4.476975603193784, 4.476975587967585, 4.476975572796231, 4.476975557679524, 4.476975542617265, 4.476975527609265, 4.476975512655318, 4.476975497755234, 4.476975482908819, 4.47697546811588, 4.476975453376227, 4.4769754386896645, 4.476975424056002, 4.476975409475047, 4.476975394946613, 4.476975380470508, 4.476975366046549, 4.476975351674545, 4.476975337354304, 4.476975323085646, 4.47697530886838, 4.476975294702327, 4.4769752805873, 4.476975266523109, 4.47697525250958, 4.476975238546525, 4.476975224633768, 4.47697521077112, 4.476975196958406, 4.476975183195447, 4.476975169482056, 4.476975155818066, 4.47697514220329, 4.476975128637555, 4.4769751151206805, 4.476975101652491, 4.476975088232823, 4.476975074861481, 4.4769750615383055, 4.476975048263121, 4.4769750350357524, 4.476975021856028, 4.476975008723771, 4.476974995638823, 4.476974982601001, 4.476974969610147, 4.476974956666082, 4.476974943768637, 4.476974930917651, 4.476974918112953, 4.476974905354376, 4.476974892641759, 4.476974879974929, 4.476974867353722, 4.476974854777981, 4.4769748422475315, 4.476974829762221, 4.476974817321877, 4.476974804926348, 4.476974792575464, 4.476974780269065, 4.476974768006996, 4.476974755789092, 4.476974743615199, 4.476974731485153, 4.476974719398799, 4.476974707355981, 4.476974695356536, 4.476974683400319, 4.476974671487165, 4.476974659616923, 4.476974647789434, 4.476974636004547, 4.476974624262109, 4.476974612561962, 4.4769746009039695, 4.476974589287959, 4.476974577713791, 4.476974566181315, 4.476974554690375, 4.476974543240829, 4.476974531832519, 4.476974520465305, 4.4769745091390325, 4.476974497853555, 4.476974486608731, 4.4769744754044085, 4.4769744642404445, 4.47697445311669, 4.476974442033003, 4.476974430989241, 4.4769744199852575, 4.47697440902091, 4.47697439809605, 4.476974387210546, 4.476974376364252, 4.476974365557023, 4.476974354788719, 4.476974344059208, 4.476974333368338, 4.476974322715978, 4.47697431210199, 4.476974301526232, 4.476974290988562, 4.47697428048885, 4.476974270026963, 4.476974259602756, 4.476974249216096, 4.476974238866847, 4.476974228554876, 4.476974218280052, 4.476974208042232, 4.47697419784129, 4.476974187677087, 4.476974177549501, 4.476974167458394, 4.476974157403633, 4.476974147385086, 4.476974137402629, 4.476974127456127, 4.476974117545449, 4.476974107670472, 4.476974097831063, 4.476974088027097, 4.476974078258442, 4.476974068524971, 4.476974058826563, 4.476974049163088, 4.4769740395344195, 4.47697402994043, 4.476974020381002, 4.476974010856006, 4.476974001365318, 4.476973991908812, 4.476973982486371, 4.476973973097866, 4.476973963743182, 4.476973954422192, 4.476973945134775, 4.4769739358808085, 4.476973926660175, 4.476973917472756, 4.476973908318433, 4.476973899197073, 4.476973890108577, 4.47697388105281, 4.476973872029668, 4.476973863039021, 4.476973854080765, 4.47697384515477, 4.476973836260927, 4.476973827399119, 4.476973818569231, 4.476973809771149, 4.476973801004758, 4.47697379226994, 4.476973783566585, 4.47697377489458, 4.476973766253811, 4.476973757644166, 4.476973749065531, 4.4769737405177965, 4.47697373200085, 4.476973723514581, 4.4769737150588815, 4.476973706633634, 4.476973698238737, 4.476973689874081, 4.47697368153955, 4.476973673235039, 4.476973664960442, 4.47697365671565, 4.476973648500553, 4.476973640315049, 4.476973632159028, 4.476973624032383, 4.476973615935012, 4.476973607866805, 4.476973599827658, 4.476973591817471, 4.476973583836134, 4.476973575883548, 4.476973567959606, 4.476973560064201, 4.476973552197243, 4.4769735443586125, 4.476973536548222, 4.476973528765961, 4.476973521011733, 4.476973513285438, 4.476973505586967, 4.476973497916229, 4.476973490273119, 4.476973482657539, 4.476973475069392, 4.476973467508579, 4.476973459974993, 4.476973452468547, 4.476973444989139, 4.47697343753667, 4.476973430111044, 4.476973422712167, 4.4769734153399385, 4.476973407994263, 4.476973400675047, 4.476973393382195, 4.476973386115611, 4.476973378875202, 4.47697337166087, 4.476973364472527, 4.476973357310072, 4.47697335017342, 4.476973343062471, 4.476973335977135, 4.476973328917322, 4.476973321882938, 4.476973314873892, 4.476973307890089, 4.4769733009314425, 4.476973293997862, 4.476973287089254, 4.47697328020553, 4.4769732733466014, 4.47697326651238, 4.4769732597027785, 4.476973252917698, 4.476973246157059, 4.476973239420774, 4.476973232708748, 4.476973226020904, 4.476973219357144, 4.476973212717388, 4.47697320610155, 4.476973199509537, 4.476973192941271, 4.476973186396664, 4.4769731798756345, 4.4769731733780835, 4.476973166903944, 4.476973160453125, 4.476973154025536, 4.476973147621102, 4.4769731412397356, 4.476973134881356, 4.476973128545876, 4.476973122233219, 4.476973115943296, 4.476973109676035, 4.476973103431341, 4.476973097209145, 4.476973091009358, 4.476973084831904, 4.476973078676702, 4.476973072543671, 4.476973066432729, 4.4769730603437985, 4.4769730542767965, 4.476973048231651, 4.476973042208284, 4.476973036206607, 4.476973030226548, 4.476973024268028, 4.476973018330974, 4.4769730124153, 4.476973006520941, 4.47697300064781, 4.476972994795831, 4.476972988964933, 4.47697298315504, 4.476972977366068, 4.476972971597948, 4.476972965850607, 4.476972960123967, 4.476972954417958, 4.476972948732499, 4.476972943067518, 4.47697293742294, 4.476972931798695, 4.476972926194706, 4.476972920610908, 4.476972915047219, 4.4769729095035675, 4.47697290397989, 4.476972898476107, 4.476972892992142, 4.476972887527935, 4.476972882083411, 4.476972876658497, 4.476972871253119, 4.476972865867219, 4.4769728605007115, 4.476972855153535, 4.4769728498256205, 4.4769728445168955, 4.476972839227293, 4.476972833956745, 4.476972828705182, 4.476972823472528, 4.476972818258726, 4.476972813063704, 4.476972807887398, 4.476972802729732, 4.476972797590641, 4.4769727924700655, 4.476972787367933, 4.476972782284177, 4.476972777218733, 4.476972772171536, 4.476972767142517, 4.476972762131612, 4.476972757138759, 4.476972752163882, 4.476972747206932, 4.476972742267832, 4.47697273734653, 4.476972732442946, 4.47697272755703, 4.47697272268871, 4.476972717837926, 4.47697271300461, 4.4769727081887085, 4.476972703390152, 4.476972698608879, 4.47697269384483, 4.47697268909794, 4.476972684368147, 4.476972679655392, 4.476972674959612, 4.476972670280744, 4.476972665618729, 4.476972660973508, 4.476972656345019, 4.476972651733198, 4.476972647137993, 4.476972642559341, 4.476972637997173, 4.476972633451443, 4.476972628922088, 4.476972624409044, 4.476972619912259, 4.476972615431672, 4.476972610967217, 4.4769726065188475, 4.476972602086499, 4.476972597670119, 4.476972593269643, 4.476972588885017, 4.4769725845161865, 4.476972580163095, 4.476972575825678, 4.476972571503884, 4.476972567197662, 4.476972562906946, 4.476972558631684, 4.476972554371826, 4.476972550127309, 4.4769725458980805, 4.476972541684082, 4.47697253748527, 4.476972533301577, 4.476972529132957, 4.476972524979344, 4.476972520840701, 4.476972516716959, 4.476972512608072, 4.476972508513989, 4.476972504434648, 4.476972500370001, 4.476972496319999, 4.47697249228458, 4.476972488263696, 4.476972484257296, 4.47697248026533, 4.4769724762877425, 4.476972472324476, 4.476972468375492, 4.476972464440729, 4.476972460520139, 4.4769724566136695, 4.476972452721271, 4.476972448842893, 4.476972444978488, 4.476972441128001, 4.476972437291382, 4.476972433468581, 4.476972429659548, 4.47697242586424, 4.476972422082601, 4.476972418314582, 4.476972414560134, 4.476972410819213, 4.476972407091765, 4.4769724033777445, 4.476972399677096, 4.4769723959897805, 4.476972392315747, 4.476972388654946, 4.476972385007336, 4.476972381372857, 4.4769723777514745, 4.476972374143133, 4.476972370547791, 4.476972366965398, 4.476972363395905, 4.476972359839274, 4.476972356295454, 4.476972352764396, 4.476972349246056, 4.476972345740396, 4.4769723422473575, 4.476972338766901, 4.476972335298976, 4.476972331843546, 4.476972328400566, 4.476972324969988, 4.476972321551761, 4.4769723181458465, 4.476972314752201, 4.476972311370782, 4.476972308001546, 4.476972304644435, 4.476972301299422, 4.476972297966455, 4.476972294645502, 4.476972291336499, 4.476972288039423, 4.476972284754219, 4.476972281480852, 4.476972278219273, 4.476972274969442, 4.476972271731315, 4.476972268504851, 4.476972265290013, 4.4769722620867505, 4.476972258895028, 4.476972255714805, 4.476972252546032, 4.476972249388671, 4.476972246242688, 4.476972243108038, 4.476972239984672, 4.476972236872562, 4.476972233771658, 4.476972230681924, 4.476972227603319, 4.476972224535807, 4.476972221479339, 4.476972218433881, 4.476972215399394, 4.476972212375836, 4.476972209363169, 4.476972206361353, 4.476972203370351, 4.4769722003901204, 4.4769721974206265, 4.476972194461827, 4.476972191513685, 4.476972188576162, 4.4769721856492195, 4.47697218273282, 4.4769721798269275, 4.476972176931501, 4.4769721740465025, 4.4769721711718935, 4.4769721683076416, 4.476972165453708, 4.47697216261005, 4.476972159776637, 4.476972156953427, 4.47697215414039, 4.47697215133748, 4.4769721485446725, 4.4769721457619225, 4.476972142989193, 4.476972140226456, 4.476972137473663, 4.476972134730795, 4.4769721319977975, 4.476972129274649, 4.4769721265613045, 4.47697212385774, 4.476972121163911, 4.476972118479782, 4.476972115805323, 4.476972113140498, 4.476972110485271, 4.47697210783961, 4.476972105203472, 4.476972102576837, 4.476972099959657, 4.476972097351909, 4.476972094753553, 4.476972092164555, 4.47697208958488, 4.4769720870145, 4.476972084453377, 4.4769720819014776, 4.476972079358774, 4.476972076825228, 4.476972074300806, 4.476972071785476, 4.476972069279207, 4.476972066781969, 4.476972064293724, 4.476972061814436, 4.476972059344082, 4.476972056882629, 4.476972054430042, 4.476972051986283, 4.476972049551334, 4.476972047125152, 4.476972044707706, 4.476972042298971, 4.476972039898907, 4.476972037507495, 4.476972035124692, 4.476972032750477, 4.476972030384806, 4.476972028027659, 4.476972025679011, 4.47697202333881, 4.476972021007044, 4.476972018683679, 4.476972016368678, 4.476972014062017, 4.4769720117636655, 4.47697200947359, 4.476972007191767, 4.47697200491816, 4.476972002652746, 4.4769720003954925, 4.4769719981463645, 4.476971995905339, 4.476971993672385, 4.476971991447476, 4.476971989230581, 4.476971987021669, 4.476971984820712, 4.476971982627692, 4.476971980442561, 4.476971978265303, 4.476971976095891, 4.476971973934287, 4.476971971780476, 4.476971969634419, 4.476971967496093, 4.476971965365471, 4.476971963242522, 4.4769719611272185, 4.476971959019534, 4.47697195691944, 4.4769719548269125, 4.476971952741922, 4.476971950664443, 4.476971948594444, 4.476971946531902, 4.476971944476791, 4.47697194242908, 4.4769719403887445, 4.476971938355762, 4.476971936330099, 4.4769719343117345, 4.4769719323006365, 4.476971930296784, 4.4769719283001495, 4.476971926310709, 4.47697192432843, 4.476971922353292, 4.47697192038527, 4.476971918424337, 4.476971916470466, 4.476971914523637, 4.476971912583813, 4.476971910650982, 4.476971908725111, 4.476971906806173, 4.476971904894152, 4.476971902989015, 4.476971901090743, 4.476971899199306, 4.476971897314684, 4.476971895436852, 4.47697189356578, 4.476971891701448, 4.476971889843831, 4.476971887992906, 4.476971886148648, 4.476971884311029, 4.4769718824800355, 4.476971880655633, 4.476971878837805, 4.476971877026521, 4.4769718752217615, 4.4769718734235076, 4.476971871631728, 4.476971869846401, 4.476971868067503, 4.476971866295016, 4.476971864528912, 4.476971862769167, 4.476971861015767, 4.476971859268675, 4.476971857527881, 4.476971855793356, 4.47697185406508, 4.476971852343026, 4.476971850627181, 4.476971848917509, 4.476971847213999, 4.4769718455166245, 4.476971843825363, 4.476971842140195, 4.476971840461096, 4.476971838788042, 4.4769718371210185, 4.476971835459994, 4.47697183380496, 4.476971832155882, 4.476971830512745, 4.476971828875525, 4.476971827244205, 4.4769718256187625, 4.476971823999173, 4.476971822385416, 4.4769718207774725, 4.476971819175316, 4.476971817578936, 4.476971815988305, 4.476971814403404, 4.476971812824212, 4.4769718112507055, 4.476971809682866, 4.476971808120678, 4.476971806564117, 4.476971805013161, 4.47697180346779, 4.476971801927984, 4.476971800393727, 4.476971798864994, 4.4769717973417675, 4.476971795824033, 4.476971794311761, 4.476971792804938, 4.476971791303539, 4.476971789807552, 4.47697178831695, 4.476971786831722, 4.4769717853518385, 4.476971783877286, 4.476971782408048, 4.476971780944102, 4.476971779485425, 4.476971778032003, 4.476971776583819, 4.47697177514085, 4.476971773703078, 4.476971772270487, 4.476971770843054, 4.4769717694207625, 4.476971768003594, 4.47697176659153, 4.476971765184551, 4.47697176378264, 4.476971762385779, 4.476971760993956, 4.476971759607139, 4.476971758225319, 4.476971756848476, 4.476971755476591, 4.476971754109649, 4.47697175274763, 4.47697175139052, 4.476971750038294, 4.476971748690938, 4.47697174734844, 4.476971746010772, 4.476971744677929, 4.476971743349884, 4.476971742026619, 4.476971740708124, 4.476971739394377, 4.476971738085361, 4.476971736781058, 4.476971735481458, 4.476971734186539, 4.476971732896283, 4.476971731610671, 4.476971730329695, 4.4769717290533295, 4.47697172778156, 4.476971726514378, 4.476971725251752, 4.476971723993683, 4.476971722740137, 4.47697172149111, 4.47697172024658, 4.476971719006534, 4.476971717770958, 4.476971716539826, 4.476971715313133, 4.476971714090857, 4.476971712872984, 4.476971711659497, 4.476971710450382, 4.476971709245621, 4.4769717080452, 4.4769717068491035, 4.476971705657316, 4.476971704469818, 4.476971703286601, 4.476971702107643, 4.476971700932934, 4.476971699762455, 4.47697169859619, 4.476971697434128, 4.476971696276252, 4.476971695122548, 4.476971693972992, 4.476971692827585, 4.4769716916863, 4.476971690549131, 4.476971689416054, 4.476971688287055, 4.476971687162125, 4.476971686041248, 4.4769716849244094, 4.476971683811592, 4.476971682702787, 4.476971681597966, 4.47697168049713, 4.476971679400259, 4.4769716783073426, 4.476971677218359, 4.476971676133297, 4.476971675052144, 4.476971673974888, 4.476971672901512, 4.476971671832001, 4.476971670766337, 4.476971669704521, 4.476971668646518, 4.4769716675923386, 4.476971666541948, 4.476971665495343, 4.4769716644525115, 4.4769716634134324, 4.476971662378095, 4.476971661346488, 4.476971660318598, 4.476971659294408, 4.476971658273909, 4.476971657257085, 4.476971656243926, 4.476971655234412, 4.476971654228537, 4.4769716532262835, 4.47697165222764, 4.4769716512325965, 4.476971650241135, 4.476971649253245, 4.476971648268915, 4.476971647288124, 4.476971646310874, 4.476971645337142, 4.4769716443669125, 4.476971643400183, 4.476971642436931, 4.47697164147715, 4.47697164052083, 4.476971639567948, 4.476971638618506, 4.476971637672482, 4.476971636729859, 4.476971635790637, 4.476971634854796, 4.476971633922327, 4.476971632993216, 4.476971632067454, 4.476971631145023, 4.476971630225915, 4.476971629310122, 4.476971628397622, 4.4769716274884095, 4.476971626582473, 4.476971625679801, 4.476971624780377, 4.476971623884199, 4.476971622991242, 4.476971622101508, 4.476971621214974, 4.476971620331634, 4.476971619451476, 4.476971618574488, 4.476971617700658, 4.476971616829979, 4.476971615962432, 4.476971615098015, 4.476971614236708, 4.4769716133785025, 4.476971612523389, 4.476971611671357, 4.476971610822392, 4.476971609976487, 4.476971609133625, 4.476971608293803, 4.476971607457007, 4.476971606623219, 4.476971605792439, 4.476971604964654, 4.476971604139848, 4.476971603318009, 4.476971602499133, 4.476971601683207, 4.476971600870219, 4.4769716000601605, 4.47697159925302, 4.476971598448786, 4.476971597647449, 4.4769715968489985, 4.476971596053423, 4.476971595260713, 4.476971594470857, 4.476971593683853, 4.476971592899679, 4.476971592118327, 4.476971591339791, 4.47697159056406, 4.476971589791125, 4.476971589020973, 4.476971588253595, 4.476971587488977, 4.4769715867271165, 4.476971585968001, 4.4769715852116185, 4.476971584457964, 4.47697158370702, 4.4769715829587815, 4.476971582213238, 4.476971581470382, 4.476971580730196, 4.476971579992684, 4.476971579257825, 4.4769715785256095, 4.476971577796038, 4.476971577069089, 4.476971576344762, 4.476971575623041, 4.47697157490392, 4.476971574187388, 4.476971573473441, 4.476971572762063, 4.47697157205325, 4.476971571346987, 4.476971570643269, 4.476971569942085, 4.476971569243427, 4.476971568547288, 4.476971567853655, 4.4769715671625185, 4.476971566473872, 4.476971565787712, 4.476971565104013, 4.47697156442278, 4.476971563744005, 4.476971563067677, 4.476971562393778, 4.4769715617223085, 4.476971561053258, 4.476971560386619, 4.476971559722376, 4.476971559060531, 4.476971558401069, 4.476971557743978, 4.476971557089258, 4.476971556436899, 4.476971555786885, 4.476971555139212, 4.476971554493872, 4.47697155385086, 4.476971553210165, 4.476971552571774, 4.47697155193568, 4.476971551301882, 4.476971550670364, 4.476971550041124, 4.4769715494141495, 4.4769715487894315, 4.476971548166964, 4.4769715475467375, 4.47697154692875, 4.47697154631298, 4.476971545699437, 4.476971545088099, 4.476971544478962, 4.476971543872023, 4.476971543267269, 4.4769715426646925, 4.476971542064287, 4.476971541466041, 4.476971540869951, 4.476971540276011, 4.476971539684212, 4.476971539094539, 4.476971538506996, 4.476971537921565, 4.4769715373382395, 4.476971536757022, 4.476971536177897, 4.476971535600854, 4.476971535025888, 4.476971534452999, 4.476971533882172, 4.4769715333133995, 4.476971532746678, 4.476971532181994, 4.476971531619346, 4.476971531058723, 4.476971530500124, 4.476971529943531, 4.4769715293889485, 4.476971528836359, 4.476971528285764, 4.476971527737149, 4.476971527190509, 4.476971526645841, 4.476971526103136, 4.476971525562384, 4.476971525023581, 4.476971524486718, 4.476971523951782, 4.476971523418783, 4.476971522887697, 4.47697152235853, 4.476971521831264, 4.476971521305897, 4.476971520782426, 4.476971520260839, 4.476971519741132, 4.476971519223292, 4.476971518707322, 4.476971518193209, 4.476971517680948, 4.476971517170533, 4.476971516661954, 4.476971516155209, 4.476971515650286, 4.476971515147183, 4.476971514645896, 4.476971514146413, 4.476971513648729, 4.4769715131528365, 4.47697151265873, 4.476971512166403, 4.476971511675852, 4.476971511187066, 4.4769715107000385, 4.476971510214765, 4.476971509731247, 4.476971509249463, 4.476971508769414, 4.4769715082911, 4.476971507814505, 4.476971507339626, 4.476971506866462, 4.476971506394997, 4.476971505925231, 4.4769715054571595, 4.476971504990775, 4.476971504526067, 4.476971504063033, 4.4769715036016695, 4.476971503141966, 4.476971502683918, 4.4769715022275225, 4.476971501772767, 4.476971501319652, 4.476971500868167, 4.476971500418311, 4.4769714999700705, 4.476971499523452, 4.476971499078439, 4.476971498635024, 4.476971498193214, 4.47697149775299, 4.476971497314355, 4.476971496877297, 4.476971496441815, 4.4769714960079, 4.476971495575549, 4.476971495144756, 4.476971494715516, 4.476971494287821, 4.476971493861665, 4.476971493437042, 4.476971493013952, 4.476971492592389, 4.476971492172337, 4.476971491753799, 4.476971491336773, 4.476971490921247, 4.476971490507218, 4.476971490094683, 4.476971489683628, 4.476971489274058, 4.47697148886596, 4.476971488459336, 4.476971488054175, 4.476971487650473, 4.476971487248225, 4.4769714868474235, 4.476971486448069, 4.476971486050155, 4.4769714856536735, 4.476971485258615, 4.476971484864978, 4.476971484472765, 4.476971484081964, 4.4769714836925685, 4.476971483304579, 4.476971482917982, 4.476971482532781, 4.476971482148967, 4.476971481766534, 4.476971481385479, 4.4769714810057994, 4.47697148062749, 4.476971480250532, 4.4769714798749405, 4.4769714795006985, 4.476971479127805, 4.476971478756256, 4.476971478386044, 4.476971478017167, 4.476971477649617, 4.47697147728339, 4.476971476918487, 4.476971476554894, 4.4769714761926105, 4.476971475831633, 4.476971475471954, 4.476971475113575, 4.4769714747564855, 4.4769714744006786, 4.476971474046156, 4.4769714736929105, 4.476971473340936, 4.47697147299023, 4.476971472640789, 4.476971472292604, 4.476971471945673, 4.476971471599996, 4.476971471255561, 4.476971470912365, 4.4769714705704065, 4.476971470229682, 4.476971469890179, 4.4769714695519065, 4.476971469214847, 4.476971468879001, 4.476971468544367, 4.47697146821094, 4.476971467878711, 4.47697146754768, 4.476971467217842, 4.47697146688919, 4.476971466561724, 4.476971466235435, 4.476971465910326, 4.476971465586381, 4.476971465263609, 4.476971464941996, 4.476971464621545, 4.476971464302244, 4.476971463984097, 4.476971463667094, 4.47697146335123, 4.476971463036509, 4.476971462722914, 4.476971462410456, 4.47697146209912, 4.476971461788908, 4.476971461479809, 4.476971461171828, 4.476971460864957, 4.476971460559187, 4.476971460254523, 4.476971459950956, 4.4769714596484755, 4.476971459347089, 4.4769714590467915, 4.4769714587475695, 4.4769714584494285, 4.47697145815236, 4.476971457856363, 4.4769714575614366, 4.47697145726756, 4.476971456974751, 4.476971456682998, 4.4769714563922935, 4.476971456102636, 4.476971455814019, 4.4769714555264475, 4.476971455239904, 4.476971454954398, 4.476971454669921, 4.476971454386466, 4.4769714541040315, 4.47697145382262, 4.476971453542214, 4.476971453262824, 4.476971452984438, 4.476971452707056, 4.476971452430671, 4.476971452155284, 4.476971451880888, 4.47697145160748, 4.476971451335058, 4.476971451063616, 4.47697145079315, 4.476971450523658, 4.4769714502551405, 4.4769714499875874, 4.476971449721, 4.4769714494553705, 4.476971449190702, 4.476971448926982, 4.476971448664214, 4.476971448402394, 4.476971448141514, 4.476971447881574, 4.4769714476225735, 4.476971447364502, 4.476971447107361, 4.476971446851148, 4.476971446595859, 4.476971446341485, 4.4769714460880286, 4.4769714458354875, 4.476971445583853, 4.4769714453331275, 4.476971445083306, 4.476971444834379, 4.476971444586355, 4.476971444339221, 4.476971444092976, 4.476971443847624, 4.4769714436031505, 4.476971443359559, 4.476971443116842, 4.476971442875, 4.476971442634032, 4.47697144239393, 4.476971442154697, 4.47697144191632, 4.4769714416788045, 4.47697144144214, 4.4769714412063335, 4.4769714409713774, 4.476971440737264, 4.476971440503993, 4.4769714402715675, 4.476971440039973, 4.476971439809216, 4.476971439579288, 4.476971439350191, 4.4769714391219155, 4.476971438894466, 4.476971438667838, 4.476971438442021, 4.47697143821702, 4.476971437992829, 4.47697143776944, 4.476971437546861, 4.476971437325085, 4.4769714371041065, 4.476971436883924, 4.476971436664532, 4.476971436445935, 4.476971436228121, 4.476971436011096, 4.476971435794848, 4.47697143557938, 4.476971435364689, 4.476971435150773, 4.476971434937626, 4.476971434725248, 4.4769714345136284, 4.4769714343027776, 4.476971434092687, 4.476971433883351, 4.476971433674772, 4.476971433466938, 4.476971433259857, 4.476971433053523, 4.476971432847929, 4.476971432643074, 4.476971432438961, 4.476971432235581, 4.476971432032932, 4.476971431831018, 4.47697143162983, 4.476971431429359, 4.476971431229621, 4.4769714310305995, 4.4769714308322905, 4.476971430634704, 4.476971430437821, 4.476971430241652, 4.476971430046181, 4.476971429851421, 4.476971429657363, 4.476971429464002, 4.476971429271339, 4.476971429079371, 4.476971428888089, 4.476971428697501, 4.476971428507596, 4.47697142831838, 4.476971428129843, 4.476971427941986, 4.476971427754805, 4.476971427568295, 4.476971427382458, 4.476971427197294, 4.476971427012795, 4.4769714268289595, 4.47697142664579, 4.476971426463276, 4.4769714262814215, 4.476971426100219, 4.476971425919674, 4.476971425739777, 4.476971425560527, 4.4769714253819215, 4.476971425203963, 4.476971425026643, 4.476971424849962, 4.476971424673919, 4.476971424498509, 4.476971424323729, 4.476971424149581, 4.476971423976061, 4.476971423803164, 4.476971423630893, 4.476971423459239, 4.4769714232882025, 4.476971423117784, 4.4769714229479805, 4.476971422778788, 4.4769714226102035, 4.476971422442226, 4.476971422274855, 4.476971422108086, 4.476971421941916, 4.476971421776348, 4.476971421611371, 4.476971421446995, 4.476971421283207, 4.476971421120013, 4.476971420957402, 4.476971420795381, 4.476971420633936, 4.47697142047308, 4.4769714203128, 4.4769714201531015, 4.476971419993972, 4.476971419835418, 4.476971419677435, 4.476971419520024, 4.4769714193631795, 4.476971419206898, 4.4769714190511785, 4.4769714188960235, 4.476971418741423, 4.476971418587382, 4.4769714184339, 4.476971418280964, 4.4769714181285805, 4.476971417976746, 4.476971417825455, 4.476971417674713, 4.476971417524516, 4.476971417374856, 4.476971417225738, 4.476971417077157, 4.4769714169291115, 4.476971416781597, 4.476971416634615, 4.476971416488161, 4.476971416342234, 4.476971416196835, 4.476971416051961, 4.476971415907605, 4.476971415763771, 4.476971415620454, 4.4769714154776565, 4.476971415335373, 4.476971415193596, 4.4769714150523345, 4.476971414911579, 4.476971414771335, 4.47697141463159, 4.476971414492352, 4.47697141435362, 4.476971414215383, 4.476971414077641, 4.476971413940396, 4.476971413803648, 4.4769714136673935, 4.476971413531627, 4.476971413396353, 4.476971413261561, 4.47697141312726, 4.476971412993443, 4.4769714128601015, 4.476971412727245, 4.476971412594866, 4.476971412462966, 4.4769714123315385, 4.4769714122005855, 4.476971412070102, 4.476971411940091, 4.4769714118105455, 4.476971411681472, 4.476971411552861, 4.47697141142471, 4.476971411297019, 4.476971411169795, 4.476971411043028, 4.476971410916712, 4.476971410790856, 4.476971410665452, 4.476971410540499, 4.476971410415998, 4.476971410291943, 4.4769714101683356, 4.476971410045172, 4.476971409922455, 4.476971409800182, 4.4769714096783435, 4.47697140955695, 4.476971409435991, 4.476971409315461, 4.476971409195375, 4.476971409075718, 4.476971408956489, 4.476971408837696, 4.476971408719324, 4.476971408601382, 4.476971408483866, 4.476971408366768, 4.4769714082501, 4.476971408133846, 4.476971408018014, 4.476971407902596, 4.4769714077875955, 4.476971407673009, 4.476971407558835, 4.4769714074450695, 4.47697140733172, 4.476971407218777, 4.476971407106236, 4.476971406994107, 4.4769714068823765, 4.47697140677105, 4.476971406660125, 4.4769714065496, 4.476971406439472, 4.476971406329741, 4.476971406220407, 4.476971406111466, 4.476971406002916, 4.4769714058947585, 4.47697140578699, 4.476971405679608, 4.476971405572614, 4.476971405466008, 4.476971405359785, 4.47697140525394, 4.476971405148482, 4.476971405043401, 4.476971404938698, 4.476971404834372, 4.476971404730427, 4.47697140462685, 4.476971404523649, 4.476971404420821, 4.476971404318358, 4.47697140421627, 4.476971404114544, 4.476971404013186, 4.476971403912195, 4.476971403811573, 4.476971403711304, 4.4769714036114, 4.476971403511857, 4.476971403412672, 4.476971403313842, 4.476971403215371, 4.476971403117254, 4.476971403019491, 4.476971402922077, 4.476971402825018, 4.476971402728305, 4.476971402631941, 4.476971402535925, 4.476971402440256, 4.476971402344927, 4.476971402249946, 4.476971402155306, 4.476971402061007, 4.476971401967045, 4.476971401873428, 4.476971401780141, 4.4769714016871935, 4.4769714015945805, 4.476971401502302, 4.476971401410355, 4.476971401318739, 4.476971401227451, 4.4769714011364945, 4.476971401045866, 4.476971400955563, 4.476971400865586, 4.476971400775929, 4.4769714006866, 4.4769714005975905, 4.4769714005089005, 4.47697140042053, 4.47697140033248, 4.4769714002447465, 4.47697140015733, 4.47697140007023, 4.476971399983438, 4.476971399896965, 4.476971399810797, 4.47697139972494, 4.476971399639397, 4.47697139955416, 4.47697139946923, 4.476971399384604, 4.476971399300288, 4.4769713992162705, 4.476971399132559, 4.4769713990491455, 4.476971398966035, 4.476971398883221, 4.4769713988007105, 4.476971398718496, 4.476971398636576, 4.476971398554947, 4.4769713984736175, 4.476971398392583, 4.476971398311835, 4.476971398231377, 4.476971398151216, 4.476971398071336, 4.476971397991744, 4.476971397912445, 4.47697139783343, 4.476971397754695, 4.476971397676248, 4.476971397598081, 4.476971397520197, 4.476971397442594, 4.4769713973652685, 4.4769713972882235, 4.476971397211455, 4.476971397134964, 4.476971397058746, 4.47697139698281]"
            ]
          },
          "metadata": {
            "tags": []
          },
          "execution_count": 270
        }
      ]
    },
    {
      "metadata": {
        "id": "CFZmuSTHPX9t",
        "colab_type": "code",
        "colab": {
          "base_uri": "https://localhost:8080/",
          "height": 305
        },
        "outputId": "ec28f369-93ee-49ab-cd28-c970a2cecba8"
      },
      "cell_type": "code",
      "source": [
        "pred_mat = (the_X * the_theta).transpose()\n",
        "pred = pred_mat.get(0, \"all\")\n",
        "plt.plot(x_plot, y_plot, \"o\")\n",
        "plt.plot(x_plot, pred, \"-\")\n",
        "plt.xlabel(\"x\", fontsize=18)\n",
        "plt.ylabel(\"y\", fontsize=18)"
      ],
      "execution_count": 276,
      "outputs": [
        {
          "output_type": "execute_result",
          "data": {
            "text/plain": [
              "Text(0,0.5,'y')"
            ]
          },
          "metadata": {
            "tags": []
          },
          "execution_count": 276
        },
        {
          "output_type": "display_data",
          "data": {
            "image/png": "[encoded data removed]",
            "text/plain": [
              "<matplotlib.figure.Figure at 0x7fa87de119e8>"
            ]
          },
          "metadata": {
            "tags": []
          }
        }
      ]
    },
    {
      "metadata": {
        "id": "J5a5Jjg2TjS2",
        "colab_type": "code",
        "colab": {}
      },
      "cell_type": "code",
      "source": [
        "some_data = Mat([[1.0, 7.4764]])  # y = 4.3483\n",
        "some_pred = some_data * the_theta"
      ],
      "execution_count": 0,
      "outputs": []
    },
    {
      "metadata": {
        "id": "P3uwR1m3Vo5n",
        "colab_type": "code",
        "colab": {
          "base_uri": "https://localhost:8080/",
          "height": 35
        },
        "outputId": "6ee14304-a3f0-4484-ac1e-617074788b8a"
      },
      "cell_type": "code",
      "source": [
        "some_pred.get(0, 0)"
      ],
      "execution_count": 273,
      "outputs": [
        {
          "output_type": "execute_result",
          "data": {
            "text/plain": [
              "5.023935429593743"
            ]
          },
          "metadata": {
            "tags": []
          },
          "execution_count": 273
        }
      ]
    },
    {
      "metadata": {
        "id": "J-9SQIF9TIu4",
        "colab_type": "code",
        "colab": {
          "base_uri": "https://localhost:8080/",
          "height": 304
        },
        "outputId": "b79c1060-eea5-472b-a0cb-998a1638bf36"
      },
      "cell_type": "code",
      "source": [
        "J_plot = J_hist.get(0, \"all\")\n",
        "linear = range(len(J_plot))\n",
        "plt.plot(linear, J_plot, \"-\")\n",
        "plt.xlabel(\"number of iterations\", fontsize=18)\n",
        "plt.ylabel(\"cost\", fontsize=18)"
      ],
      "execution_count": 277,
      "outputs": [
        {
          "output_type": "execute_result",
          "data": {
            "text/plain": [
              "Text(0,0.5,'cost')"
            ]
          },
          "metadata": {
            "tags": []
          },
          "execution_count": 277
        },
        {
          "output_type": "display_data",
          "data": {
            "image/png": "[encoded data removed]",
            "text/plain": [
              "<matplotlib.figure.Figure at 0x7fa87ddcb5f8>"
            ]
          },
          "metadata": {
            "tags": []
          }
        }
      ]
    },
    {
      "metadata": {
        "id": "x7tjlnQhW1pI",
        "colab_type": "code",
        "colab": {}
      },
      "cell_type": "code",
      "source": [
        ""
      ],
      "execution_count": 0,
      "outputs": []
    }
  ]
}